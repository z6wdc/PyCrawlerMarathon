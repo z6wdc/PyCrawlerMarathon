{
 "cells": [
  {
   "cell_type": "markdown",
   "metadata": {},
   "source": [
    "# 利用 Python 存取 API\n",
    "\n",
    "\n",
    "* 了解 Server Client 的架構與溝通方法\n",
    "* 知道 HTTP Request & Response 的內容\n",
    "* 什麼是 API？如何用 Python 程式存取 API 資料\n"
   ]
  },
  {
   "cell_type": "markdown",
   "metadata": {},
   "source": [
    "## 下載檔案"
   ]
  },
  {
   "cell_type": "code",
   "execution_count": 6,
   "metadata": {},
   "outputs": [
    {
     "data": {
      "text/plain": [
       "'[{\"id\":\"17392220994\",\"type\":\"WatchEvent\",\"actor\":{\"id\":24637456,\"login\":\"harshpatel097\",\"display_login\":\"harshpatel097\",\"gravatar_id\":\"\",\"url\":\"https://api.github.com/users/harshpatel097\",\"avatar_url\":\"https://avatars.githubusercontent.com/u/24637456?\"},\"repo\":{\"id\":65757761,\"name\":\"beemdevelopment/Aegis\",\"url\":\"https://api.github.com/repos/beemdevelopment/Aegis\"},\"payload\":{\"action\":\"started\"},\"public\":true,\"created_at\":\"2021-08-02T08:54:22Z\",\"org\":{\"id\":47433933,\"login\":\"beemdevelopment\",\"gravatar_id\":\"\",\"url\":\"https://api.github.com/orgs/beemdevelopment\",\"avatar_url\":\"https://avatars.githubusercontent.com/u/47433933?\"}},{\"id\":\"17392221003\",\"type\":\"IssueCommentEvent\",\"actor\":{\"id\":85158838,\"login\":\"sonarqube-decoration[bot]\",\"display_login\":\"sonarqube-decoration\",\"gravatar_id\":\"\",\"url\":\"https://api.github.com/users/sonarqube-decoration[bot]\",\"avatar_url\":\"https://avatars.githubusercontent.com/u/85158838?\"},\"repo\":{\"id\":369195355,\"name\":\"centreon/centreon-frontend\",\"url\":\"https://api.'"
      ]
     },
     "execution_count": 6,
     "metadata": {},
     "output_type": "execute_result"
    }
   ],
   "source": [
    "import requests\n",
    "\n",
    "r = requests.get('https://api.github.com/events')\n",
    "r.text[:1000]"
   ]
  },
  {
   "cell_type": "code",
   "execution_count": 7,
   "metadata": {},
   "outputs": [
    {
     "name": "stdout",
     "output_type": "stream",
     "text": [
      "<class 'str'>\n",
      "<class 'list'>\n"
     ]
    },
    {
     "data": {
      "text/plain": [
       "{'id': '17392220994',\n",
       " 'type': 'WatchEvent',\n",
       " 'actor': {'id': 24637456,\n",
       "  'login': 'harshpatel097',\n",
       "  'display_login': 'harshpatel097',\n",
       "  'gravatar_id': '',\n",
       "  'url': 'https://api.github.com/users/harshpatel097',\n",
       "  'avatar_url': 'https://avatars.githubusercontent.com/u/24637456?'},\n",
       " 'repo': {'id': 65757761,\n",
       "  'name': 'beemdevelopment/Aegis',\n",
       "  'url': 'https://api.github.com/repos/beemdevelopment/Aegis'},\n",
       " 'payload': {'action': 'started'},\n",
       " 'public': True,\n",
       " 'created_at': '2021-08-02T08:54:22Z',\n",
       " 'org': {'id': 47433933,\n",
       "  'login': 'beemdevelopment',\n",
       "  'gravatar_id': '',\n",
       "  'url': 'https://api.github.com/orgs/beemdevelopment',\n",
       "  'avatar_url': 'https://avatars.githubusercontent.com/u/47433933?'}}"
      ]
     },
     "execution_count": 7,
     "metadata": {},
     "output_type": "execute_result"
    }
   ],
   "source": [
    "import json\n",
    "\n",
    "print(type(json.dumps(r.text)))\n",
    "print(type(json.loads(r.text)))\n",
    "json.loads(r.text)[0]"
   ]
  },
  {
   "cell_type": "markdown",
   "metadata": {},
   "source": [
    "## 其它用法"
   ]
  },
  {
   "cell_type": "code",
   "execution_count": 12,
   "metadata": {},
   "outputs": [
    {
     "name": "stdout",
     "output_type": "stream",
     "text": [
      "<class 'str'>\n",
      "<class 'str'>\n",
      "<class 'dict'>\n"
     ]
    },
    {
     "data": {
      "text/plain": [
       "{'args': {'key1': 'value1', 'key2': 'value2'},\n",
       " 'headers': {'Accept': '*/*',\n",
       "  'Accept-Encoding': 'gzip, deflate',\n",
       "  'Host': 'httpbin.org',\n",
       "  'User-Agent': 'python-requests/2.26.0',\n",
       "  'X-Amzn-Trace-Id': 'Root=1-6107b421-0252b952194303826918b004'},\n",
       " 'origin': '27.81.24.227',\n",
       " 'url': 'http://httpbin.org/get?key1=value1&key2=value2'}"
      ]
     },
     "execution_count": 12,
     "metadata": {},
     "output_type": "execute_result"
    }
   ],
   "source": [
    "payload = {'key1': 'value1', 'key2': 'value2'}\n",
    "r = requests.get(\"http://httpbin.org/get\", params=payload)\n",
    "print(type(r.text))\n",
    "print(type(json.dumps(r.text)))\n",
    "print(type(json.loads(r.text)))\n",
    "json.loads(r.text)"
   ]
  },
  {
   "cell_type": "code",
   "execution_count": 13,
   "metadata": {},
   "outputs": [
    {
     "name": "stdout",
     "output_type": "stream",
     "text": [
      "<class 'str'>\n",
      "<class 'str'>\n",
      "<class 'dict'>\n"
     ]
    },
    {
     "data": {
      "text/plain": [
       "{'args': {},\n",
       " 'data': '',\n",
       " 'files': {},\n",
       " 'form': {'key': 'value'},\n",
       " 'headers': {'Accept': '*/*',\n",
       "  'Accept-Encoding': 'gzip, deflate',\n",
       "  'Content-Length': '9',\n",
       "  'Content-Type': 'application/x-www-form-urlencoded',\n",
       "  'Host': 'httpbin.org',\n",
       "  'User-Agent': 'python-requests/2.26.0',\n",
       "  'X-Amzn-Trace-Id': 'Root=1-6107b42d-748b0bf15822599660cf45c3'},\n",
       " 'json': None,\n",
       " 'origin': '27.81.24.227',\n",
       " 'url': 'http://httpbin.org/post'}"
      ]
     },
     "execution_count": 13,
     "metadata": {},
     "output_type": "execute_result"
    }
   ],
   "source": [
    "r = requests.post('http://httpbin.org/post', data = {'key':'value'})\n",
    "print(type(r.text))\n",
    "print(type(json.dumps(r.text)))\n",
    "print(type(json.loads(r.text)))\n",
    "json.loads(r.text)"
   ]
  },
  {
   "cell_type": "code",
   "execution_count": 14,
   "metadata": {},
   "outputs": [
    {
     "name": "stdout",
     "output_type": "stream",
     "text": [
      "<class 'str'>\n",
      "<class 'str'>\n",
      "<class 'dict'>\n"
     ]
    },
    {
     "data": {
      "text/plain": [
       "{'args': {},\n",
       " 'data': '',\n",
       " 'files': {},\n",
       " 'form': {'key': 'value'},\n",
       " 'headers': {'Accept': '*/*',\n",
       "  'Accept-Encoding': 'gzip, deflate',\n",
       "  'Content-Length': '9',\n",
       "  'Content-Type': 'application/x-www-form-urlencoded',\n",
       "  'Host': 'httpbin.org',\n",
       "  'User-Agent': 'python-requests/2.26.0',\n",
       "  'X-Amzn-Trace-Id': 'Root=1-6107b432-4566f5b97b4fe7811d153de6'},\n",
       " 'json': None,\n",
       " 'origin': '27.81.24.227',\n",
       " 'url': 'http://httpbin.org/post'}"
      ]
     },
     "execution_count": 14,
     "metadata": {},
     "output_type": "execute_result"
    }
   ],
   "source": [
    "r = requests.post('http://httpbin.org/post', data = {'key':'value'})\n",
    "print(type(r.text))\n",
    "print(type(json.dumps(r.text)))\n",
    "print(type(json.loads(r.text)))\n",
    "json.loads(r.text)"
   ]
  },
  {
   "cell_type": "markdown",
   "metadata": {},
   "source": [
    "## 作業目標\n",
    "\n",
    "* 比較一下範例檔案中的「r.text」與「json.loads(r.text)」讀出來的內容有什麼差異\n",
    "* 自行尋找一個合適的 API 接口做練習，並且查看其回傳內容\n",
    "    * https://cat-fact.herokuapp.com/facts (來源：https://alexwohlbruck.github.io/cat-facts/)\n",
    "    * http://odata.wra.gov.tw/v4/RealtimeWaterLevel (來源：https://data.gov.tw/dataset/25768)\n",
    "\n"
   ]
  }
 ],
 "metadata": {
  "kernelspec": {
   "display_name": "Python 3 (ipykernel)",
   "language": "python",
   "name": "python3"
  },
  "language_info": {
   "codemirror_mode": {
    "name": "ipython",
    "version": 3
   },
   "file_extension": ".py",
   "mimetype": "text/x-python",
   "name": "python",
   "nbconvert_exporter": "python",
   "pygments_lexer": "ipython3",
   "version": "3.9.5"
  }
 },
 "nbformat": 4,
 "nbformat_minor": 4
}
