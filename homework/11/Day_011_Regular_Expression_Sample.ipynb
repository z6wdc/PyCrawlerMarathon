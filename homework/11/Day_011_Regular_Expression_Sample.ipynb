{
 "cells": [
  {
   "cell_type": "markdown",
   "metadata": {},
   "source": [
    "# 正規表達式 Regular Expression\n",
    "## 透過一些範例來說明如何使用正規表達式"
   ]
  },
  {
   "cell_type": "code",
   "execution_count": 32,
   "metadata": {},
   "outputs": [],
   "source": [
    "import re  #載入re模組"
   ]
  },
  {
   "cell_type": "code",
   "execution_count": 33,
   "metadata": {},
   "outputs": [],
   "source": [
    "# 定義一個函數，用來測試正規表達式是否匹配文本\n",
    "def RegexMatchingTest(regex, input_text):\n",
    "    #將正規表達式轉換成pattern\n",
    "    pattern = re.compile(regex)\n",
    "    # pattern = re.compile(regex, flags=re.IGNORECASE)  #若要忽略大小寫，在編譯時加上flags=re.IGNORECASE\n",
    "    \n",
    "    # 帶入編譯後的pattern，來測試是否匹配\n",
    "    # 這裡也可以用match()、split()、findall()、sub()等其他函數來測試匹配\n",
    "    match = re.search(pattern, input_text)\n",
    "\n",
    "    if match:\n",
    "        # 匹配完的結果會儲存在group()的屬性中，我們可以把匹配的結果列印出來\n",
    "        print(f\"Matched: {match.group()}\")\n",
    "                \n",
    "        if match.lastindex is not None:\n",
    "            # group(0)代表整個字串，group(1)、group(2)...代表分組中，匹配的內容\n",
    "            for i in range(match.lastindex+1):\n",
    "                print(f\"  group{i}: {match.group(i)}\")\n",
    "    else:\n",
    "        print(\"Not matched.\")"
   ]
  },
  {
   "cell_type": "markdown",
   "metadata": {},
   "source": [
    "### 範例1:使用「\\w」匹配字母，「\\d」匹配數字，「\\s」匹配空白"
   ]
  },
  {
   "cell_type": "code",
   "execution_count": 34,
   "metadata": {},
   "outputs": [
    {
     "name": "stdout",
     "output_type": "stream",
     "text": [
      "Matched: My plate number is XYZ-1234\n"
     ]
    }
   ],
   "source": [
    "test_string = \"My plate number is XYZ-1234.\"\n",
    "regex = 'My plate number is \\w\\w\\w-\\d\\d\\d\\d'\n",
    "RegexMatchingTest(regex, test_string)"
   ]
  },
  {
   "cell_type": "code",
   "execution_count": 35,
   "metadata": {},
   "outputs": [
    {
     "name": "stdout",
     "output_type": "stream",
     "text": [
      "Matched: My phone number is 0912-345 678\n"
     ]
    }
   ],
   "source": [
    "test_string = \"My phone number is 0912-345 678.\"\n",
    "regex = 'My phone number is \\d\\d\\d\\d-\\d\\d\\d\\s\\d\\d\\d'\n",
    "RegexMatchingTest(regex, test_string)"
   ]
  },
  {
   "cell_type": "code",
   "execution_count": 36,
   "metadata": {},
   "outputs": [
    {
     "name": "stdout",
     "output_type": "stream",
     "text": [
      "Matched: My phone number is 0912-345 678\n"
     ]
    }
   ],
   "source": [
    "#利用量詞{n,m}來簡化寫法\n",
    "test_string = \"My phone number is 0912-345 678.\"\n",
    "regex = 'My phone number is \\d{4}-\\d{3}\\s{1}\\d{3}'\n",
    "RegexMatchingTest(regex, test_string)"
   ]
  },
  {
   "cell_type": "code",
   "execution_count": 37,
   "metadata": {},
   "outputs": [
    {
     "name": "stdout",
     "output_type": "stream",
     "text": [
      "Matched: My phone number is 0912-345 678\n"
     ]
    }
   ],
   "source": [
    "# 更偷懶的寫法，用「.」來代表任何字元\n",
    "test_string = \"My phone number is 0912-345 678.\"\n",
    "regex = 'My phone number is .{4}-.{3}.{1}.{3}'\n",
    "RegexMatchingTest(regex, test_string)"
   ]
  },
  {
   "cell_type": "markdown",
   "metadata": {},
   "source": [
    "### 範例2:使用[...]匹配在[ ]裡面所列出的字元"
   ]
  },
  {
   "cell_type": "code",
   "execution_count": 38,
   "metadata": {},
   "outputs": [
    {
     "name": "stdout",
     "output_type": "stream",
     "text": [
      "Matched: I love d\n"
     ]
    }
   ],
   "source": [
    "test_string = \"I love dogs.\"\n",
    "regex = 'I love [acdgnost]'\n",
    "RegexMatchingTest(regex, test_string)"
   ]
  },
  {
   "cell_type": "code",
   "execution_count": 39,
   "metadata": {},
   "outputs": [
    {
     "name": "stdout",
     "output_type": "stream",
     "text": [
      "Matched: I love c\n"
     ]
    }
   ],
   "source": [
    "test_string = \"I love cats.\"\n",
    "regex = 'I love [acdgnost]'\n",
    "RegexMatchingTest(regex, test_string)"
   ]
  },
  {
   "cell_type": "code",
   "execution_count": 40,
   "metadata": {},
   "outputs": [
    {
     "name": "stdout",
     "output_type": "stream",
     "text": [
      "Matched: I love dogs\n"
     ]
    }
   ],
   "source": [
    "# 若要匹配超過一個以上的字元，必須加入量詞(「+」或「*」或「?」)來表達\n",
    "test_string = \"I love dogs.\"\n",
    "regex = 'I love [acdgnost]+'\n",
    "RegexMatchingTest(regex, test_string)"
   ]
  },
  {
   "cell_type": "code",
   "execution_count": 41,
   "metadata": {},
   "outputs": [
    {
     "name": "stdout",
     "output_type": "stream",
     "text": [
      "Not matched.\n"
     ]
    }
   ],
   "source": [
    "test_string = \"I love people.\"\n",
    "regex = 'I love [acdgnost]+'\n",
    "RegexMatchingTest(regex, test_string)\n",
    "# people裡面只有'p'、'e'、'o'、'l'等字元，無法滿足[acdgnost]裡面所列出的條件"
   ]
  },
  {
   "cell_type": "markdown",
   "metadata": {},
   "source": [
    "### 範例3:分組及捕捉"
   ]
  },
  {
   "cell_type": "code",
   "execution_count": 42,
   "metadata": {},
   "outputs": [
    {
     "name": "stdout",
     "output_type": "stream",
     "text": [
      "Matched: I like baseball sport\n",
      "  group0: I like baseball sport\n",
      "  group1: baseball\n"
     ]
    }
   ],
   "source": [
    "test_string = \"I like baseball sport.\"\n",
    "regex = 'I like (hiking|baseball) sport'\n",
    "RegexMatchingTest(regex, test_string)"
   ]
  },
  {
   "cell_type": "code",
   "execution_count": 43,
   "metadata": {},
   "outputs": [
    {
     "name": "stdout",
     "output_type": "stream",
     "text": [
      "Matched: I like hiking sport\n",
      "  group0: I like hiking sport\n",
      "  group1: hiking\n"
     ]
    }
   ],
   "source": [
    "test_string = \"I like hiking sport.\"\n",
    "regex = 'I like (hiking|basketball) sport'\n",
    "RegexMatchingTest(regex, test_string)"
   ]
  },
  {
   "cell_type": "markdown",
   "metadata": {},
   "source": [
    "### 範例4:使用跳脫符號「\\」\n",
    "當遇到詮釋字元要被視為一般字元時，就必須要在前面加上跳脫符號「\\」"
   ]
  },
  {
   "cell_type": "code",
   "execution_count": 44,
   "metadata": {},
   "outputs": [
    {
     "name": "stdout",
     "output_type": "stream",
     "text": [
      "Matched: Please call number (02)2882-5252\n"
     ]
    }
   ],
   "source": [
    "test_string = \"Please call number (02)2882-5252.\"\n",
    "regex = 'Please call number \\([0-9]{2}\\)[0-9]{4}-[0-9]{4}'  #用「\\(」來匹配左括號\"(\"，用「\\)」來匹配右括號\")\"\n",
    "RegexMatchingTest(regex, test_string)"
   ]
  },
  {
   "cell_type": "markdown",
   "metadata": {},
   "source": [
    "### 範例5:比對中文字"
   ]
  },
  {
   "cell_type": "code",
   "execution_count": 45,
   "metadata": {},
   "outputs": [
    {
     "name": "stdout",
     "output_type": "stream",
     "text": [
      "Matched: 中文字\n"
     ]
    }
   ],
   "source": [
    "test_string = \"Here are 中文字 and English\"  #中英夾雜的句子\n",
    "regex = '[\\u4e00-\\u9fa5]+'                  #中文的UNICODE，範圍是0x4E00 ~ 0x9FA5\n",
    "RegexMatchingTest(regex, test_string)"
   ]
  }
 ],
 "metadata": {
  "kernelspec": {
   "display_name": "Python 3 (ipykernel)",
   "language": "python",
   "name": "python3"
  },
  "language_info": {
   "codemirror_mode": {
    "name": "ipython",
    "version": 3
   },
   "file_extension": ".py",
   "mimetype": "text/x-python",
   "name": "python",
   "nbconvert_exporter": "python",
   "pygments_lexer": "ipython3",
   "version": "3.9.5"
  }
 },
 "nbformat": 4,
 "nbformat_minor": 4
}
