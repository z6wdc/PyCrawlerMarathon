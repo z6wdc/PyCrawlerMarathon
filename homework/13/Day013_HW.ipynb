{
 "cells": [
  {
   "cell_type": "markdown",
   "metadata": {},
   "source": [
    "# PTT 網路爬蟲實作練習\n",
    "\n",
    "\n",
    "* 能夠利用 Request + BeatifulSour 撰寫爬蟲，並存放到合適的資料結構\n"
   ]
  },
  {
   "cell_type": "markdown",
   "metadata": {},
   "source": [
    "## 作業目標\n",
    "\n",
    "根據範例 ，完成以下問題：\n",
    "\n",
    "* ① 印出最新文章的「作者」「標題」「時間」\n",
    "* ② 印出第一頁所有文章的「作者」「標題」「時間」\n"
   ]
  },
  {
   "cell_type": "code",
   "execution_count": 20,
   "metadata": {},
   "outputs": [],
   "source": [
    "import requests\n",
    "from bs4 import BeautifulSoup\n",
    "\n",
    "url = 'https://www.ptt.cc/bbs/NBA/index.html'\n",
    "r = requests.get(url)\n",
    "\n",
    "soup = BeautifulSoup(r.text, \"html5lib\")"
   ]
  },
  {
   "cell_type": "markdown",
   "metadata": {},
   "source": [
    "### ② 印出第一頁所有文章的「作者」「標題」「時間」"
   ]
  },
  {
   "cell_type": "code",
   "execution_count": 21,
   "metadata": {},
   "outputs": [
    {
     "name": "stdout",
     "output_type": "stream",
     "text": [
      "[情報] Kenneth Faried 加入拓荒者夏季聯盟隊伍\n",
      "作者: thnlkj0665 (灰色地帶)\n",
      "時間: Fri Aug  6 21:02:29 2021\n",
      "[花邊] Andre Drummond談加入76人的決定及角色\n",
      "作者: arod1414 (Kawhi Leonard頭號粉絲)\n",
      "時間: Fri Aug  6 21:12:38 2021\n",
      "Re: [情報] 記者：Schroder要求一份起薪2500萬美元\n",
      "作者: laptic (靜夜聖林彼岸花)\n",
      "時間: Fri Aug  6 21:16:48 2021\n",
      "[公告] 板規v8.3\n",
      "[公告] NBA板救濟專案啟動 & 借用板主位置\n",
      "作者: Vedan (百鬼組-味丹)\n",
      "時間: Thu Jul 22 00:01:56 2021\n",
      "[公告] NBA板主徵選(7/23~8/20)\n",
      "作者: Induction (愛人愛己)\n",
      "時間: Fri Jul 23 10:37:09 2021\n",
      "[情報] 2021-22 自由市場 開市總整理   (8/6)\n",
      "[情報] 2021-22 自由市場 球隊異動表格 (8/6)\n"
     ]
    }
   ],
   "source": [
    "for d in soup.find_all(class_=\"title\"):\n",
    "    print(d.text.replace('\\t', '').replace('\\n', ''))\n",
    "    try:\n",
    "        r = BeautifulSoup(requests.get('https://www.ptt.cc'+d.find('a')['href']).text, \"html5lib\")\n",
    "        print('作者: ' + r.find(class_='article-meta-value').text)\n",
    "        print('時間: ' + r.find_all(class_='article-meta-value')[-1].text)\n",
    "    except:\n",
    "        continue"
   ]
  },
  {
   "cell_type": "code",
   "execution_count": 22,
   "metadata": {},
   "outputs": [
    {
     "name": "stdout",
     "output_type": "stream",
     "text": [
      "標題：  [情報] Kenneth Faried 加入拓荒者夏季聯盟隊伍\n",
      "作者：  thnlkj0665\n",
      "時間：   8/06\n",
      "標題：  [花邊] Andre Drummond談加入76人的決定及角色\n",
      "作者：  arod1414\n",
      "時間：   8/06\n",
      "標題：  Re: [情報] 記者：Schroder要求一份起薪2500萬美元\n",
      "作者：  laptic\n",
      "時間：   8/06\n",
      "標題：  [公告] 板規v8.3\n",
      "作者：  Induction\n",
      "時間：   6/09\n",
      "標題：  [公告] NBA板救濟專案啟動 & 借用板主位置\n",
      "作者：  Vedan\n",
      "時間：   7/22\n",
      "標題：  [公告] NBA板主徵選(7/23~8/20)\n",
      "作者：  Induction\n",
      "時間：   7/23\n",
      "標題：  [情報] 2021-22 自由市場 開市總整理   (8/6)\n",
      "作者：  laigei\n",
      "時間：   7/28\n",
      "標題：  [情報] 2021-22 自由市場 球隊異動表格 (8/6)\n",
      "作者：  laigei\n",
      "時間：   7/30\n"
     ]
    }
   ],
   "source": [
    "for d in soup.find_all(class_=\"r-ent\"):\n",
    "    print('標題： ', d.find(class_='title').text.replace('\\t', '').replace('\\n', ''))\n",
    "    print('作者： ', d.find(class_='author').text.replace('\\t', '').replace('\\n', ''))\n",
    "    print('時間： ', d.find(class_='date').text.replace('\\t', '').replace('\\n', ''))"
   ]
  },
  {
   "cell_type": "markdown",
   "metadata": {},
   "source": [
    "### ③ 試著爬爬看其他版的文章"
   ]
  },
  {
   "cell_type": "code",
   "execution_count": 23,
   "metadata": {},
   "outputs": [
    {
     "data": {
      "text/plain": [
       "{'標題': '[情報] 8月份捐血(贈品)資訊 (8/06更新)',\n",
       " '作者': 'luxx0171 (聚是偶然、散是必然)',\n",
       " '時間': 'Thu Jul 29 22:40:23 2021'}"
      ]
     },
     "execution_count": 23,
     "metadata": {},
     "output_type": "execute_result"
    }
   ],
   "source": [
    "# 改成 Lifeismoney 版，抓出最新一筆的文章\n",
    "\n",
    "import requests\n",
    "from bs4 import BeautifulSoup\n",
    "\n",
    "url = 'https://www.ptt.cc/bbs/Lifeismoney/index.html'\n",
    "r = requests.get(url)\n",
    "\n",
    "soup = BeautifulSoup(r.text, \"html5lib\")\n",
    "\n",
    "posts = []\n",
    "\n",
    "for d in soup.find_all(class_=\"title\"):\n",
    "    try:\n",
    "        post = {}\n",
    "        post['標題'] = d.text.replace('\\t', '').replace('\\n', '')\n",
    "        \n",
    "        r = BeautifulSoup(requests.get('https://www.ptt.cc'+d.find('a')['href']).text, \"html5lib\")\n",
    "        post['作者'] = r.find(class_='article-meta-value').text\n",
    "        post['時間'] = r.find_all(class_='article-meta-value')[-1].text\n",
    "        \n",
    "        posts.append(post)\n",
    "    except:\n",
    "        continue\n",
    "        \n",
    "posts = sorted(posts, key= lambda x: x['時間'])\n",
    "posts[-1]"
   ]
  },
  {
   "cell_type": "code",
   "execution_count": 26,
   "metadata": {},
   "outputs": [
    {
     "data": {
      "text/plain": [
       "<title>看板 Gossiping 文章列表 - 批踢踢實業坊</title>"
      ]
     },
     "execution_count": 26,
     "metadata": {},
     "output_type": "execute_result"
    }
   ],
   "source": [
    "# 我們發現這個時間好像不是正確的，原因是我們前面存到的時間，其實不是正確的格式\n",
    "\n",
    "# 改成 Gossiping 版，發生錯誤，因為八卦版會跳轉到一個「十八歲的同意驗證頁面」導致錯誤。\n",
    "# 參考圖片下載時的解法，加上 cookies 繞過驗證（後面課程會再進行補充）\n",
    "\n",
    "import requests\n",
    "from bs4 import BeautifulSoup\n",
    "\n",
    "url = 'https://www.ptt.cc/bbs/Gossiping/index.html'\n",
    "r = requests.get(url, cookies={'over18': '1'})\n",
    "\n",
    "soup = BeautifulSoup(r.text, \"html5lib\")\n",
    "soup.title"
   ]
  },
  {
   "cell_type": "code",
   "execution_count": 32,
   "metadata": {},
   "outputs": [
    {
     "data": {
      "text/plain": [
       "{'標題': '[問卦] 外送都要等4、50分是怎麼回事',\n",
       " '作者': 'pulato16 (七股哥布林)',\n",
       " '時間': datetime.datetime(2021, 8, 6, 21, 50, 7)}"
      ]
     },
     "execution_count": 32,
     "metadata": {},
     "output_type": "execute_result"
    }
   ],
   "source": [
    "from datetime import datetime\n",
    "\n",
    "posts = []\n",
    "\n",
    "for d in soup.find_all(class_=\"title\"):\n",
    "    try:\n",
    "        post = {}\n",
    "        post['標題'] = d.text.replace('\\t', '').replace('\\n', '')\n",
    "        \n",
    "        r = BeautifulSoup(requests.get('https://www.ptt.cc'+d.find('a')['href'], cookies={'over18': '1'}).text, \"html5lib\")\n",
    "        post['作者'] = r.find(class_='article-meta-value').text\n",
    "        post['時間'] = r.find_all(class_='article-meta-value')[-1].text\n",
    "        \n",
    "        post['時間'] = datetime.strptime(post['時間'], \"%a %b %d %H:%M:%S %Y\")\n",
    "        # 時間轉換：https://stackoverflow.com/questions/10256093/how-to-convert-ctime-to-datetime-in-python\n",
    "        posts.append(post)\n",
    "    except:\n",
    "        continue\n",
    "        \n",
    "posts = sorted(posts, key= lambda x: x['時間'])\n",
    "posts[-1]"
   ]
  }
 ],
 "metadata": {
  "kernelspec": {
   "display_name": "Python 3 (ipykernel)",
   "language": "python",
   "name": "python3"
  },
  "language_info": {
   "codemirror_mode": {
    "name": "ipython",
    "version": 3
   },
   "file_extension": ".py",
   "mimetype": "text/x-python",
   "name": "python",
   "nbconvert_exporter": "python",
   "pygments_lexer": "ipython3",
   "version": "3.9.5"
  }
 },
 "nbformat": 4,
 "nbformat_minor": 4
}
