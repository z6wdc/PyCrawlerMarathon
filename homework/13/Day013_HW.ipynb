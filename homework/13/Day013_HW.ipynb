{
 "cells": [
  {
   "cell_type": "markdown",
   "metadata": {},
   "source": [
    "# PTT 網路爬蟲實作練習\n",
    "\n",
    "\n",
    "* 能夠利用 Request + BeatifulSour 撰寫爬蟲，並存放到合適的資料結構\n"
   ]
  },
  {
   "cell_type": "markdown",
   "metadata": {},
   "source": [
    "## 作業目標\n",
    "\n",
    "根據範例 ，完成以下問題：\n",
    "\n",
    "* ① 印出最新文章的「作者」「標題」「時間」\n",
    "* ② 印出第一頁所有文章的「作者」「標題」「時間」\n"
   ]
  },
  {
   "cell_type": "code",
   "execution_count": 1,
   "metadata": {},
   "outputs": [],
   "source": [
    "import requests\n",
    "from bs4 import BeautifulSoup\n",
    "\n",
    "url = 'https://www.ptt.cc/bbs/NBA/index.html'\n",
    "r = requests.get(url)\n",
    "\n",
    "soup = BeautifulSoup(r.text, \"html5lib\")"
   ]
  },
  {
   "cell_type": "markdown",
   "metadata": {},
   "source": [
    "### ① 印出最新文章的「作者」「標題」「時間」"
   ]
  },
  {
   "cell_type": "code",
   "execution_count": 3,
   "metadata": {},
   "outputs": [
    {
     "name": "stdout",
     "output_type": "stream",
     "text": [
      "[情報] Reggie Miller對下季湖人的看法\n",
      "作者: jackie0414 (哇哈哈)\n",
      "時間: [外絮] Reggie Miller對下季湖人的看法\n",
      "[討論] Rubio在NBA懷才不遇嗎\n",
      "作者: ChrisBosh (Bosh)\n",
      "時間: [討論] Rubio在NBA懷才不遇嗎\n",
      "[情報] Kelly Oubre Jr.跟黃蜂達成協議\n",
      "作者: arod1414 (Kawhi Leonard頭號粉絲)\n",
      "時間: [情報] Kelly Oubre Jr.跟黃蜂達成協議\n",
      "[情報] DeMar DeRozan加盟公牛的幕後細節\n",
      "作者: Petyr (小指頭)\n",
      "時間: [情報] DeMar DeRozan加盟公牛的幕後細節\n",
      "[新聞] 卡盧索最後一刻不放棄續留 湖人薪資考量\n",
      "作者: humbler (獸人H)\n",
      "時間: [新聞] 卡盧索最後一刻不放棄續留 湖人薪資考量\n",
      "Re: [花邊] 老巴：字母就跟喬丹一樣經歷失敗奪冠\n",
      "作者: gaowolf (I've been waiting long.)\n",
      "時間: Re: [花邊] 老巴：字母就跟喬丹一樣經歷失敗奪冠\n",
      "[公告] 水桶*9 警告*1 不罰*4\n",
      "作者: pneumo (超☆冒險蓋)\n",
      "時間: [公告] 水桶*9 警告*1 不罰*4\n",
      "[花邊] 小李第四張專輯發佈\n",
      "作者: AlanLinKL (AlanKL)\n",
      "時間: [花邊] 小李第四張專輯發佈\n",
      "(已被p刪除) <hualiens> LYS文禁發\n",
      "[公告] 七月份工作報告\n",
      "作者: Induction (愛人愛己)\n",
      "時間: [公告] 七月份工作報告\n",
      "[花邊] ESPN計算Curry新合約 秒薪$1.7美元\n",
      "作者: VeryGoodBoy (很棒的男孩)\n",
      "時間: [花邊] ESPN計算Curry新合約 秒薪$1.7美元\n",
      "[新聞] 拒絕冠軍隊公鹿、湖人　魯長老重返老鷹\n",
      "作者: arod1414 (Kawhi Leonard頭號粉絲)\n",
      "時間: [新聞] 拒絕冠軍隊公鹿、湖人　魯長老重返老鷹\n",
      "[討論] 熱火今年有機會衝擊東冠嗎？\n",
      "作者: ya870323 (忘憂的小夜曲)\n",
      "時間: [討論] 熱火今年有機會衝擊東冠嗎？\n",
      "[花邊] 為了美國隊？東奧男籃金牌戰竟在銅牌戰前\n",
      "作者: u9300017 (載雨拾乘三)\n",
      "時間: [花邊] 為了美國隊？東奧男籃金牌戰竟在銅牌戰前\n",
      "Re: [花邊] 老巴：字母就跟喬丹一樣經歷失敗奪冠\n",
      "作者: gaowolf (I've been waiting long.)\n",
      "時間: Re: [花邊] 老巴：字母就跟喬丹一樣經歷失敗奪冠\n",
      "(已被Induction刪除) <iAsshole> 2-1 150字\n",
      "[新聞] 為何底薪加盟勇士？OPJ：Kerr的越洋電話打動了我\n",
      "作者: laptic (靜夜聖林彼岸花)\n",
      "時間: [新聞] 為何底薪加盟勇士？OPJ：Kerr的越洋電話打動了我\n",
      "[新聞] 杜蘭特奧運狂飆數據  4項居美國隊史之冠\n",
      "作者: thnlkj0665 (灰色地帶)\n",
      "時間: [新聞] 杜蘭特奧運狂飆數據  4項居美國隊史之冠\n",
      "[公告] 板規v8.3\n",
      "[公告] NBA板救濟專案啟動 & 借用板主位置\n",
      "作者: Vedan (百鬼組-味丹)\n",
      "時間: [公告] NBA板救濟專案啟動 & 借用板主位置\n",
      "[公告] NBA板主徵選(7/23~8/20)\n",
      "作者: Induction (愛人愛己)\n",
      "時間: [公告] NBA板主徵選(7/23~8/20)\n",
      "[情報] 2021-22 自由市場 開市總整理   (8/6)\n",
      "[情報] 2021-22 自由市場 球隊異動表格 (8/6)\n"
     ]
    }
   ],
   "source": [
    "for d in soup.find_all(class_=\"title\"):\n",
    "    print(d.text.replace('\\t', '').replace('\\n', ''))\n",
    "    try:\n",
    "        r = BeautifulSoup(requests.get('https://www.ptt.cc'+d.find('a')['href']).text, \"html5lib\")\n",
    "        print('作者: ' + r.find(class_='article-meta-value').text)\n",
    "        print('時間: ' + r.find_all(class_='article-meta-value')[2].text)\n",
    "    except:\n",
    "        continue\n"
   ]
  },
  {
   "cell_type": "markdown",
   "metadata": {},
   "source": [
    "### ② 印出第一頁所有文章的「作者」「標題」「時間」"
   ]
  },
  {
   "cell_type": "code",
   "execution_count": null,
   "metadata": {},
   "outputs": [],
   "source": [
    "'''\n",
    "Your Code\n",
    "'''"
   ]
  },
  {
   "cell_type": "markdown",
   "metadata": {},
   "source": [
    "### ③ 試著爬爬看其他版的文章"
   ]
  },
  {
   "cell_type": "code",
   "execution_count": null,
   "metadata": {},
   "outputs": [],
   "source": [
    "'''\n",
    "Your Code\n",
    "'''"
   ]
  }
 ],
 "metadata": {
  "kernelspec": {
   "display_name": "Python 3 (ipykernel)",
   "language": "python",
   "name": "python3"
  },
  "language_info": {
   "codemirror_mode": {
    "name": "ipython",
    "version": 3
   },
   "file_extension": ".py",
   "mimetype": "text/x-python",
   "name": "python",
   "nbconvert_exporter": "python",
   "pygments_lexer": "ipython3",
   "version": "3.9.5"
  }
 },
 "nbformat": 4,
 "nbformat_minor": 4
}
