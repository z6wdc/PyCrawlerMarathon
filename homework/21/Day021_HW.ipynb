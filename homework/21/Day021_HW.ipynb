{
 "cells": [
  {
   "cell_type": "markdown",
   "metadata": {},
   "source": [
    "# Ettoday 網路爬蟲實作練習\n",
    "\n",
    "\n",
    "* 能夠利用 Request + BeatifulSour 撰寫爬蟲，並存放到合適的資料結構\n"
   ]
  },
  {
   "cell_type": "markdown",
   "metadata": {},
   "source": [
    "## 作業目標\n",
    "\n",
    "根據範例：\n",
    "\n",
    "1. 取出今天所有的新聞\n",
    "2. 取出現在時間兩小時內的新聞\n",
    "3. 根據範例，取出三天前下午三點到五點的新聞"
   ]
  },
  {
   "cell_type": "code",
   "execution_count": 15,
   "metadata": {},
   "outputs": [],
   "source": [
    "import time"
   ]
  },
  {
   "cell_type": "code",
   "execution_count": 2,
   "metadata": {},
   "outputs": [],
   "source": [
    "from selenium import webdriver\n",
    "from bs4 import BeautifulSoup\n",
    "\n",
    "browser = webdriver.Chrome(executable_path='./chromedriver')\n",
    "\n",
    "browser.get(\"https://www.ettoday.net/news/news-list.htm\")"
   ]
  },
  {
   "cell_type": "code",
   "execution_count": 14,
   "metadata": {},
   "outputs": [],
   "source": [
    "from datetime import datetime\n",
    "from datetime import timedelta\n",
    "\n",
    "yesterday = datetime.now() - timedelta(1)\n",
    "\n",
    "date_time = yesterday.strftime(\"%Y/%m/%d\")"
   ]
  },
  {
   "cell_type": "markdown",
   "metadata": {},
   "source": [
    "## 1. 取出今天所有的新聞"
   ]
  },
  {
   "cell_type": "code",
   "execution_count": 15,
   "metadata": {},
   "outputs": [
    {
     "name": "stdout",
     "output_type": "stream",
     "text": [
      "==== STOP ====\n"
     ]
    }
   ],
   "source": [
    "while True:\n",
    "    browser.execute_script(\"window.scrollTo(0, 100000);\")\n",
    "    time.sleep(2)\n",
    "    element = browser.find_elements_by_class_name(\"part_list_2\")[-1]\n",
    "    element2 = element.find_elements_by_tag_name(\"h3\")[-1]\n",
    "    element3 = element2.find_element_by_class_name(\"date\")\n",
    "    if date_time in element3.text:\n",
    "        print('==== STOP ====')\n",
    "        break"
   ]
  },
  {
   "cell_type": "code",
   "execution_count": 17,
   "metadata": {},
   "outputs": [
    {
     "ename": "InvalidSessionIdException",
     "evalue": "Message: invalid session id\n",
     "output_type": "error",
     "traceback": [
      "\u001b[0;31m---------------------------------------------------------------------------\u001b[0m",
      "\u001b[0;31mInvalidSessionIdException\u001b[0m                 Traceback (most recent call last)",
      "\u001b[0;32m/var/folders/yj/9hjbp1811bg_s08ggldcd6zm0000gp/T/ipykernel_19158/2869383872.py\u001b[0m in \u001b[0;36m<module>\u001b[0;34m\u001b[0m\n\u001b[0;32m----> 1\u001b[0;31m \u001b[0mbrowser\u001b[0m\u001b[0;34m.\u001b[0m\u001b[0mclose\u001b[0m\u001b[0;34m(\u001b[0m\u001b[0;34m)\u001b[0m\u001b[0;34m\u001b[0m\u001b[0;34m\u001b[0m\u001b[0m\n\u001b[0m",
      "\u001b[0;32m~/github.com/z6wdc/PyCrawlerMarathon/venv/lib/python3.9/site-packages/selenium/webdriver/remote/webdriver.py\u001b[0m in \u001b[0;36mclose\u001b[0;34m(self)\u001b[0m\n\u001b[1;32m    686\u001b[0m             \u001b[0mdriver\u001b[0m\u001b[0;34m.\u001b[0m\u001b[0mclose\u001b[0m\u001b[0;34m(\u001b[0m\u001b[0;34m)\u001b[0m\u001b[0;34m\u001b[0m\u001b[0;34m\u001b[0m\u001b[0m\n\u001b[1;32m    687\u001b[0m         \"\"\"\n\u001b[0;32m--> 688\u001b[0;31m         \u001b[0mself\u001b[0m\u001b[0;34m.\u001b[0m\u001b[0mexecute\u001b[0m\u001b[0;34m(\u001b[0m\u001b[0mCommand\u001b[0m\u001b[0;34m.\u001b[0m\u001b[0mCLOSE\u001b[0m\u001b[0;34m)\u001b[0m\u001b[0;34m\u001b[0m\u001b[0;34m\u001b[0m\u001b[0m\n\u001b[0m\u001b[1;32m    689\u001b[0m \u001b[0;34m\u001b[0m\u001b[0m\n\u001b[1;32m    690\u001b[0m     \u001b[0;32mdef\u001b[0m \u001b[0mquit\u001b[0m\u001b[0;34m(\u001b[0m\u001b[0mself\u001b[0m\u001b[0;34m)\u001b[0m\u001b[0;34m:\u001b[0m\u001b[0;34m\u001b[0m\u001b[0;34m\u001b[0m\u001b[0m\n",
      "\u001b[0;32m~/github.com/z6wdc/PyCrawlerMarathon/venv/lib/python3.9/site-packages/selenium/webdriver/remote/webdriver.py\u001b[0m in \u001b[0;36mexecute\u001b[0;34m(self, driver_command, params)\u001b[0m\n\u001b[1;32m    319\u001b[0m         \u001b[0mresponse\u001b[0m \u001b[0;34m=\u001b[0m \u001b[0mself\u001b[0m\u001b[0;34m.\u001b[0m\u001b[0mcommand_executor\u001b[0m\u001b[0;34m.\u001b[0m\u001b[0mexecute\u001b[0m\u001b[0;34m(\u001b[0m\u001b[0mdriver_command\u001b[0m\u001b[0;34m,\u001b[0m \u001b[0mparams\u001b[0m\u001b[0;34m)\u001b[0m\u001b[0;34m\u001b[0m\u001b[0;34m\u001b[0m\u001b[0m\n\u001b[1;32m    320\u001b[0m         \u001b[0;32mif\u001b[0m \u001b[0mresponse\u001b[0m\u001b[0;34m:\u001b[0m\u001b[0;34m\u001b[0m\u001b[0;34m\u001b[0m\u001b[0m\n\u001b[0;32m--> 321\u001b[0;31m             \u001b[0mself\u001b[0m\u001b[0;34m.\u001b[0m\u001b[0merror_handler\u001b[0m\u001b[0;34m.\u001b[0m\u001b[0mcheck_response\u001b[0m\u001b[0;34m(\u001b[0m\u001b[0mresponse\u001b[0m\u001b[0;34m)\u001b[0m\u001b[0;34m\u001b[0m\u001b[0;34m\u001b[0m\u001b[0m\n\u001b[0m\u001b[1;32m    322\u001b[0m             response['value'] = self._unwrap_value(\n\u001b[1;32m    323\u001b[0m                 response.get('value', None))\n",
      "\u001b[0;32m~/github.com/z6wdc/PyCrawlerMarathon/venv/lib/python3.9/site-packages/selenium/webdriver/remote/errorhandler.py\u001b[0m in \u001b[0;36mcheck_response\u001b[0;34m(self, response)\u001b[0m\n\u001b[1;32m    240\u001b[0m                 \u001b[0malert_text\u001b[0m \u001b[0;34m=\u001b[0m \u001b[0mvalue\u001b[0m\u001b[0;34m[\u001b[0m\u001b[0;34m'alert'\u001b[0m\u001b[0;34m]\u001b[0m\u001b[0;34m.\u001b[0m\u001b[0mget\u001b[0m\u001b[0;34m(\u001b[0m\u001b[0;34m'text'\u001b[0m\u001b[0;34m)\u001b[0m\u001b[0;34m\u001b[0m\u001b[0;34m\u001b[0m\u001b[0m\n\u001b[1;32m    241\u001b[0m             \u001b[0;32mraise\u001b[0m \u001b[0mexception_class\u001b[0m\u001b[0;34m(\u001b[0m\u001b[0mmessage\u001b[0m\u001b[0;34m,\u001b[0m \u001b[0mscreen\u001b[0m\u001b[0;34m,\u001b[0m \u001b[0mstacktrace\u001b[0m\u001b[0;34m,\u001b[0m \u001b[0malert_text\u001b[0m\u001b[0;34m)\u001b[0m\u001b[0;34m\u001b[0m\u001b[0;34m\u001b[0m\u001b[0m\n\u001b[0;32m--> 242\u001b[0;31m         \u001b[0;32mraise\u001b[0m \u001b[0mexception_class\u001b[0m\u001b[0;34m(\u001b[0m\u001b[0mmessage\u001b[0m\u001b[0;34m,\u001b[0m \u001b[0mscreen\u001b[0m\u001b[0;34m,\u001b[0m \u001b[0mstacktrace\u001b[0m\u001b[0;34m)\u001b[0m\u001b[0;34m\u001b[0m\u001b[0;34m\u001b[0m\u001b[0m\n\u001b[0m\u001b[1;32m    243\u001b[0m \u001b[0;34m\u001b[0m\u001b[0m\n\u001b[1;32m    244\u001b[0m     \u001b[0;32mdef\u001b[0m \u001b[0m_value_or_default\u001b[0m\u001b[0;34m(\u001b[0m\u001b[0mself\u001b[0m\u001b[0;34m,\u001b[0m \u001b[0mobj\u001b[0m\u001b[0;34m,\u001b[0m \u001b[0mkey\u001b[0m\u001b[0;34m,\u001b[0m \u001b[0mdefault\u001b[0m\u001b[0;34m)\u001b[0m\u001b[0;34m:\u001b[0m\u001b[0;34m\u001b[0m\u001b[0;34m\u001b[0m\u001b[0m\n",
      "\u001b[0;31mInvalidSessionIdException\u001b[0m: Message: invalid session id\n"
     ]
    }
   ],
   "source": [
    "html_source = browser.page_source\n",
    "soup = BeautifulSoup(html_source, \"html5lib\")\n",
    "\n",
    "browser.close()"
   ]
  },
  {
   "cell_type": "code",
   "execution_count": 16,
   "metadata": {},
   "outputs": [
    {
     "name": "stdout",
     "output_type": "stream",
     "text": [
      "2021/09/16 20:35 3+11調查出爐「陳時中親自拍板的」　蘇貞昌：決策不可能盡善盡美\n",
      "2021/09/16 20:35 漁船翻覆5人趴坐船尾待救援　台南海巡急馳平安救回\n",
      "2021/09/16 20:32 「太平洋藍」、「天峰藍」屏東一直都在　網友美照洗版潘孟安臉書\n",
      "2021/09/16 20:28 被他愛上超幸福！　寵溺情人星座排行榜第一名竟是「他」\n",
      "2021/09/16 20:26 3大掉髮原因快來看看有沒有上榜　不當減肥、過度緊張都有可能\n",
      "2021/09/16 20:22 環球影城將吸引千萬人潮　北京「副中心」通州升級國際城市\n",
      "2021/09/16 20:22 連千毅剛宣布合作…澎恰恰急否認「沒有同意」！遭債主加速逼債：很困擾\n",
      "2021/09/16 20:21 3類人優先打BNT疫苗！指揮中心曝「往下開放對象」\n",
      "2021/09/16 20:19 歸仁警破獲越南「越式色碟」職業賭場　32人群聚開賭送辦\n",
      "2021/09/16 20:18 遠征花蓮憶少年時代　陳冠宇、胡智為都有美好回憶\n"
     ]
    }
   ],
   "source": [
    "for d in soup.find(class_=\"part_list_2\").find_all('h3')[:10]:\n",
    "    if date_time in d.find(class_=\"date\").text :\n",
    "        break\n",
    "    print(d.find(class_=\"date\").text, d.find_all('a')[-1].text)"
   ]
  },
  {
   "cell_type": "markdown",
   "metadata": {},
   "source": [
    "## 2. 取出現在時間兩小時內的新聞"
   ]
  },
  {
   "cell_type": "code",
   "execution_count": 26,
   "metadata": {},
   "outputs": [
    {
     "name": "stdout",
     "output_type": "stream",
     "text": [
      "2021/09/16 20:35 3+11調查出爐「陳時中親自拍板的」　蘇貞昌：決策不可能盡善盡美\n",
      "2021/09/16 20:35 漁船翻覆5人趴坐船尾待救援　台南海巡急馳平安救回\n",
      "2021/09/16 20:32 「太平洋藍」、「天峰藍」屏東一直都在　網友美照洗版潘孟安臉書\n",
      "2021/09/16 20:28 被他愛上超幸福！　寵溺情人星座排行榜第一名竟是「他」\n",
      "2021/09/16 20:26 3大掉髮原因快來看看有沒有上榜　不當減肥、過度緊張都有可能\n",
      "2021/09/16 20:22 環球影城將吸引千萬人潮　北京「副中心」通州升級國際城市\n",
      "2021/09/16 20:22 連千毅剛宣布合作…澎恰恰急否認「沒有同意」！遭債主加速逼債：很困擾\n",
      "2021/09/16 20:21 3類人優先打BNT疫苗！指揮中心曝「往下開放對象」\n",
      "2021/09/16 20:19 歸仁警破獲越南「越式色碟」職業賭場　32人群聚開賭送辦\n",
      "2021/09/16 20:18 遠征花蓮憶少年時代　陳冠宇、胡智為都有美好回憶\n",
      "2021/09/16 20:17 準上市新兵報到！證交所通過力積電上市案\n",
      "2021/09/16 20:13 吳桀睿、林子豪連線！猛獅雨後狙擊　2局2比0領先猿\n",
      "2021/09/16 20:13 新北響應「國際臭氧層保護日」　植樹綠化環境清新空氣愛地球\n",
      "2021/09/16 20:13 怪獸Give Me Five等你來挑戰　新北兒藝節熱邀民眾組隊參加\n",
      "2021/09/16 20:13 新北市圖推「科學」賞月觀星　借書送療癒多肉盆栽\n",
      "2021/09/16 20:10 「我走了，妳不可以死喔」　張艾亞母罹病過世…最後遺言藏洋蔥\n",
      "2021/09/16 20:09 38歲阿Sa近拍完全零細紋　美照關鍵在每天「7步保養」\n",
      "2021/09/16 20:08 陳勢安無預警宣布「不唱《天后》了」！　親吐心聲：我沒空間了\n",
      "2021/09/16 20:06 好心收留「奇特小雞」2個月送養才知是國寶　雲林村民嚇壞了\n",
      "2021/09/16 20:06 王柏融選保送帶打點　吳念庭先發連2戰敲安\n",
      "2021/09/16 20:00 陳熙鋒演台八先跟嫂嫂拜碼頭　謝京穎飛撲撒嬌認爸爸\n",
      "2021/09/16 19:57 國民黨提案要求向美國政府要疫苗　柯建銘：不要再有疫苗口水\n",
      "2021/09/16 19:54 日月光攜手大專院校產學合作　佈局智慧製造等數位轉型\n",
      "2021/09/16 19:54 才偷完香蕉變現　男萬安演習前「飛車搶錢包」16小時後再遭逮\n"
     ]
    }
   ],
   "source": [
    "two_hours_ago_time = datetime.now() - timedelta(hours=3)\n",
    "\n",
    "for d in soup.find(class_=\"part_list_2\").find_all('h3'):\n",
    "    if datetime.strptime(d.find(class_=\"date\").text, '%Y/%m/%d %H:%M') < two_hours_ago_time:\n",
    "        break\n",
    "    print(d.find(class_=\"date\").text, d.find_all('a')[-1].text)"
   ]
  },
  {
   "cell_type": "markdown",
   "metadata": {},
   "source": [
    "## 3. 根據範例，取出三天前下午三點到五點的新聞"
   ]
  },
  {
   "cell_type": "code",
   "execution_count": 26,
   "metadata": {},
   "outputs": [],
   "source": [
    "from selenium import webdriver\n",
    "from bs4 import BeautifulSoup\n",
    "\n",
    "browser = webdriver.Chrome(executable_path='./chromedriver')\n",
    "\n",
    "browser.get(\"https://www.ettoday.net/news/news-list.htm\")"
   ]
  },
  {
   "cell_type": "code",
   "execution_count": 31,
   "metadata": {},
   "outputs": [],
   "source": [
    "before = datetime.now() - timedelta(3)\n",
    "\n",
    "month = before.strftime(\"%m\")\n",
    "day = before.strftime(\"%d\")\n",
    "\n",
    "\n",
    "search_time_end = datetime.strptime(f\"{before.strftime('%Y/%m/%d')} 17:00\", \"%Y/%m/%d %H:%M\")\n",
    "search_time_start = datetime.strptime(f\"{before.strftime('%Y/%m/%d')} 15:00\", \"%Y/%m/%d %H:%M\")"
   ]
  },
  {
   "cell_type": "code",
   "execution_count": 28,
   "metadata": {},
   "outputs": [],
   "source": [
    "from selenium.webdriver.support.ui import Select\n",
    "\n",
    "selM = Select(browser.find_element_by_id(\"selM\"))\n",
    "selM.select_by_value(str(int(month)))\n",
    "selD = Select(browser.find_element_by_id(\"selD\"))\n",
    "selD.select_by_value(day)\n",
    "browser.find_element_by_id('button').click()"
   ]
  },
  {
   "cell_type": "code",
   "execution_count": 29,
   "metadata": {},
   "outputs": [
    {
     "name": "stdout",
     "output_type": "stream",
     "text": [
      "==== STOP ====\n"
     ]
    }
   ],
   "source": [
    "while True:\n",
    "    browser.execute_script(\"window.scrollTo(0, 100000);\")\n",
    "    time.sleep(2)\n",
    "    element = browser.find_elements_by_class_name(\"part_list_2\")[-1]\n",
    "    element2 = element.find_elements_by_tag_name(\"h3\")[-1]\n",
    "    element3 = element2.find_element_by_class_name(\"date\")\n",
    "    if datetime.strptime(element3.text, \"%Y/%m/%d %H:%M\") < search_time:\n",
    "        print('==== STOP ====')\n",
    "        break"
   ]
  },
  {
   "cell_type": "code",
   "execution_count": 30,
   "metadata": {},
   "outputs": [],
   "source": [
    "html_source = browser.page_source\n",
    "soup = BeautifulSoup(html_source, \"html5lib\")\n",
    "\n",
    "browser.close()"
   ]
  },
  {
   "cell_type": "code",
   "execution_count": 33,
   "metadata": {},
   "outputs": [
    {
     "name": "stdout",
     "output_type": "stream",
     "text": [
      "==== STOP ====\n"
     ]
    }
   ],
   "source": [
    "news = []\n",
    "for d in soup.find(class_=\"part_list_2\").find_all('h3'):\n",
    "    # 比兩小時前早的話就結束\n",
    "    if datetime.strptime(d.find(class_=\"date\").text, '%Y/%m/%d %H:%M') < search_time_start:\n",
    "        print('==== STOP ====')\n",
    "        break\n",
    "    \n",
    "    if datetime.strptime(d.find(class_=\"date\").text, '%Y/%m/%d %H:%M') < search_time_end:\n",
    "        news.append({\n",
    "            '時間': d.find(class_=\"date\").text,\n",
    "            '標題': d.find_all('a')[-1].text\n",
    "        })"
   ]
  },
  {
   "cell_type": "code",
   "execution_count": 35,
   "metadata": {},
   "outputs": [
    {
     "data": {
      "text/plain": [
       "[{'時間': '2021/09/14 16:59', '標題': '快訊／3貨輪驚爆28確診！曾停泊高雄港\\u3000陳其邁：港埠提升管制'},\n",
       " {'時間': '2021/09/14 16:59', '標題': 'Junior上山看小鬼\\u3000剛進墓園就遇「奇妙巧合」心一震：地球上最浪漫'},\n",
       " {'時間': '2021/09/14 16:59', '標題': '再生能源佔比增加、供電穩定性成隱憂\\u3000「儲能系統」調節功能成解方'},\n",
       " {'時間': '2021/09/14 16:58', '標題': '女大生忍14年！推拿遭摸私處\\u3000國術館阿北還撂話：被判刑會詛咒'},\n",
       " {'時間': '2021/09/14 16:57', '標題': 'MET Gala／「跳水王子」毛線從東奧織到紅毯了！網笑翻：打趴所有女星'},\n",
       " {'時間': '2021/09/14 16:56', '標題': 'Kobe邀聯手也沒動心！\\u3000德佬棄湖人、火箭25億大約留守達拉斯'},\n",
       " {'時間': '2021/09/14 16:56', '標題': '爽中3800萬頭獎！51歲男「半年全花光」退休夢碎...給中肯建議'},\n",
       " {'時間': '2021/09/14 16:56', '標題': '一鍋130元「賣小火鍋賺翻？」\\u3000網點破1現實原因：少得可憐'},\n",
       " {'時間': '2021/09/14 16:55', '標題': '媒體爆料嘉義監獄出現土皇帝管理晚間噤聲\\u3000矯正署澄清'},\n",
       " {'時間': '2021/09/14 16:55', '標題': '法官鄭小康無端收受翁茂鍾12件襯衫\\u3000監察院9票通過彈劾'},\n",
       " {'時間': '2021/09/14 16:52', '標題': '快訊／淡水女租客攀18樓外牆\\u3000消防急鋪氣墊仍目睹悲劇瞬間'},\n",
       " {'時間': '2021/09/14 16:50', '標題': '瘋搶秒殺假議題？\\u3000新建案餘屋統計：新竹縣不減反增'},\n",
       " {'時間': '2021/09/14 16:49', '標題': '國民黨感謝日本贈疫苗\\u3000狠酸台灣第二劑覆蓋率5％與日「相差懸殊」'},\n",
       " {'時間': '2021/09/14 16:47', '標題': '五倍券金融業加碼33億、衝462萬份\\u3000王美花：已逾數位券佔比20％目標'},\n",
       " {'時間': '2021/09/14 16:47', '標題': '1800請看護...只能找逃逸移工？他曝「台人價碼7萬5」：請不起嗎'},\n",
       " {'時間': '2021/09/14 16:46', '標題': '打完「嬌生疫苗」仍爆32例確診！\\u3000法國籲加打第2劑輝瑞、莫德納'},\n",
       " {'時間': '2021/09/14 16:46', '標題': '偷瞄到女友「存款160萬」他驚喊：我只有8萬！\\u3000網見1點狂搖頭'},\n",
       " {'時間': '2021/09/14 16:44', '標題': '新北幼兒園群聚已驗出21人染Delta\\u3000羅一鈞：難判定是否埃及傳入'},\n",
       " {'時間': '2021/09/14 16:44', '標題': '「拍啊，你很屌啊！」無罩酒客鬧區嗆員警\\u3000下秒遭撂倒'},\n",
       " {'時間': '2021/09/14 16:42', '標題': '565萬的De Beers蝴蝶鑽石項鍊玩轉換\\u3000當胸針、髮飾都行'}]"
      ]
     },
     "execution_count": 35,
     "metadata": {},
     "output_type": "execute_result"
    }
   ],
   "source": [
    "news[:20]"
   ]
  }
 ],
 "metadata": {
  "kernelspec": {
   "display_name": "Python 3 (ipykernel)",
   "language": "python",
   "name": "python3"
  },
  "language_info": {
   "codemirror_mode": {
    "name": "ipython",
    "version": 3
   },
   "file_extension": ".py",
   "mimetype": "text/x-python",
   "name": "python",
   "nbconvert_exporter": "python",
   "pygments_lexer": "ipython3",
   "version": "3.9.5"
  }
 },
 "nbformat": 4,
 "nbformat_minor": 4
}
