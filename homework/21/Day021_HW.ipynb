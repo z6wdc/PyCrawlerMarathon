{
 "cells": [
  {
   "cell_type": "markdown",
   "metadata": {},
   "source": [
    "# Ettoday 網路爬蟲實作練習\n",
    "\n",
    "\n",
    "* 能夠利用 Request + BeatifulSour 撰寫爬蟲，並存放到合適的資料結構\n"
   ]
  },
  {
   "cell_type": "markdown",
   "metadata": {},
   "source": [
    "## 作業目標\n",
    "\n",
    "根據範例：\n",
    "\n",
    "1. 取出今天所有的新聞\n",
    "2. 取出現在時間兩小時內的新聞\n",
    "3. 根據範例，取出三天前下午三點到五點的新聞"
   ]
  },
  {
   "cell_type": "code",
   "execution_count": 2,
   "metadata": {},
   "outputs": [],
   "source": [
    "from selenium import webdriver\n",
    "from bs4 import BeautifulSoup\n",
    "\n",
    "browser = webdriver.Chrome(executable_path='./chromedriver')\n",
    "\n",
    "browser.get(\"https://www.ettoday.net/news/news-list.htm\")"
   ]
  },
  {
   "cell_type": "code",
   "execution_count": 14,
   "metadata": {},
   "outputs": [],
   "source": [
    "from datetime import datetime\n",
    "from datetime import timedelta\n",
    "\n",
    "yesterday = datetime.now() - timedelta(1)\n",
    "\n",
    "date_time = yesterday.strftime(\"%Y/%m/%d\")"
   ]
  },
  {
   "cell_type": "markdown",
   "metadata": {},
   "source": [
    "## 1. 取出今天所有的新聞"
   ]
  },
  {
   "cell_type": "code",
   "execution_count": 15,
   "metadata": {},
   "outputs": [
    {
     "name": "stdout",
     "output_type": "stream",
     "text": [
      "==== STOP ====\n"
     ]
    }
   ],
   "source": [
    "import time\n",
    "while True:\n",
    "    browser.execute_script(\"window.scrollTo(0, 100000);\")\n",
    "    time.sleep(2)\n",
    "    element = browser.find_elements_by_class_name(\"part_list_2\")[-1]\n",
    "    element2 = element.find_elements_by_tag_name(\"h3\")[-1]\n",
    "    element3 = element2.find_element_by_class_name(\"date\")\n",
    "    if date_time in element3.text:\n",
    "        print('==== STOP ====')\n",
    "        break"
   ]
  },
  {
   "cell_type": "code",
   "execution_count": 16,
   "metadata": {},
   "outputs": [
    {
     "name": "stdout",
     "output_type": "stream",
     "text": [
      "2021/09/16 20:35 3+11調查出爐「陳時中親自拍板的」　蘇貞昌：決策不可能盡善盡美\n",
      "2021/09/16 20:35 漁船翻覆5人趴坐船尾待救援　台南海巡急馳平安救回\n",
      "2021/09/16 20:32 「太平洋藍」、「天峰藍」屏東一直都在　網友美照洗版潘孟安臉書\n",
      "2021/09/16 20:28 被他愛上超幸福！　寵溺情人星座排行榜第一名竟是「他」\n",
      "2021/09/16 20:26 3大掉髮原因快來看看有沒有上榜　不當減肥、過度緊張都有可能\n",
      "2021/09/16 20:22 環球影城將吸引千萬人潮　北京「副中心」通州升級國際城市\n",
      "2021/09/16 20:22 連千毅剛宣布合作…澎恰恰急否認「沒有同意」！遭債主加速逼債：很困擾\n",
      "2021/09/16 20:21 3類人優先打BNT疫苗！指揮中心曝「往下開放對象」\n",
      "2021/09/16 20:19 歸仁警破獲越南「越式色碟」職業賭場　32人群聚開賭送辦\n",
      "2021/09/16 20:18 遠征花蓮憶少年時代　陳冠宇、胡智為都有美好回憶\n"
     ]
    }
   ],
   "source": [
    "html_source = browser.page_source\n",
    "soup = BeautifulSoup(html_source, \"html5lib\")\n",
    "\n",
    "for d in soup.find(class_=\"part_list_2\").find_all('h3')[:10]:\n",
    "    if date_time in d.find(class_=\"date\").text :\n",
    "        break\n",
    "    print(d.find(class_=\"date\").text, d.find_all('a')[-1].text)"
   ]
  },
  {
   "cell_type": "markdown",
   "metadata": {},
   "source": [
    "## 2. 取出現在時間兩小時內的新聞"
   ]
  },
  {
   "cell_type": "code",
   "execution_count": 26,
   "metadata": {},
   "outputs": [
    {
     "name": "stdout",
     "output_type": "stream",
     "text": [
      "2021/09/16 20:35 3+11調查出爐「陳時中親自拍板的」　蘇貞昌：決策不可能盡善盡美\n",
      "2021/09/16 20:35 漁船翻覆5人趴坐船尾待救援　台南海巡急馳平安救回\n",
      "2021/09/16 20:32 「太平洋藍」、「天峰藍」屏東一直都在　網友美照洗版潘孟安臉書\n",
      "2021/09/16 20:28 被他愛上超幸福！　寵溺情人星座排行榜第一名竟是「他」\n",
      "2021/09/16 20:26 3大掉髮原因快來看看有沒有上榜　不當減肥、過度緊張都有可能\n",
      "2021/09/16 20:22 環球影城將吸引千萬人潮　北京「副中心」通州升級國際城市\n",
      "2021/09/16 20:22 連千毅剛宣布合作…澎恰恰急否認「沒有同意」！遭債主加速逼債：很困擾\n",
      "2021/09/16 20:21 3類人優先打BNT疫苗！指揮中心曝「往下開放對象」\n",
      "2021/09/16 20:19 歸仁警破獲越南「越式色碟」職業賭場　32人群聚開賭送辦\n",
      "2021/09/16 20:18 遠征花蓮憶少年時代　陳冠宇、胡智為都有美好回憶\n",
      "2021/09/16 20:17 準上市新兵報到！證交所通過力積電上市案\n",
      "2021/09/16 20:13 吳桀睿、林子豪連線！猛獅雨後狙擊　2局2比0領先猿\n",
      "2021/09/16 20:13 新北響應「國際臭氧層保護日」　植樹綠化環境清新空氣愛地球\n",
      "2021/09/16 20:13 怪獸Give Me Five等你來挑戰　新北兒藝節熱邀民眾組隊參加\n",
      "2021/09/16 20:13 新北市圖推「科學」賞月觀星　借書送療癒多肉盆栽\n",
      "2021/09/16 20:10 「我走了，妳不可以死喔」　張艾亞母罹病過世…最後遺言藏洋蔥\n",
      "2021/09/16 20:09 38歲阿Sa近拍完全零細紋　美照關鍵在每天「7步保養」\n",
      "2021/09/16 20:08 陳勢安無預警宣布「不唱《天后》了」！　親吐心聲：我沒空間了\n",
      "2021/09/16 20:06 好心收留「奇特小雞」2個月送養才知是國寶　雲林村民嚇壞了\n",
      "2021/09/16 20:06 王柏融選保送帶打點　吳念庭先發連2戰敲安\n",
      "2021/09/16 20:00 陳熙鋒演台八先跟嫂嫂拜碼頭　謝京穎飛撲撒嬌認爸爸\n",
      "2021/09/16 19:57 國民黨提案要求向美國政府要疫苗　柯建銘：不要再有疫苗口水\n",
      "2021/09/16 19:54 日月光攜手大專院校產學合作　佈局智慧製造等數位轉型\n",
      "2021/09/16 19:54 才偷完香蕉變現　男萬安演習前「飛車搶錢包」16小時後再遭逮\n"
     ]
    }
   ],
   "source": [
    "two_hours_ago_time = datetime.now() - timedelta(hours=3)\n",
    "\n",
    "for d in soup.find(class_=\"part_list_2\").find_all('h3'):\n",
    "    if datetime.strptime(d.find(class_=\"date\").text, '%Y/%m/%d %H:%M') < two_hours_ago_time:\n",
    "        break\n",
    "    print(d.find(class_=\"date\").text, d.find_all('a')[-1].text)"
   ]
  },
  {
   "cell_type": "markdown",
   "metadata": {},
   "source": [
    "## 3. 根據範例，取出三天前下午三點到五點的新聞"
   ]
  },
  {
   "cell_type": "code",
   "execution_count": 1,
   "metadata": {},
   "outputs": [
    {
     "data": {
      "text/plain": [
       "'\\nYour Code\\n'"
      ]
     },
     "execution_count": 1,
     "metadata": {},
     "output_type": "execute_result"
    }
   ],
   "source": []
  }
 ],
 "metadata": {
  "kernelspec": {
   "display_name": "Python 3 (ipykernel)",
   "language": "python",
   "name": "python3"
  },
  "language_info": {
   "codemirror_mode": {
    "name": "ipython",
    "version": 3
   },
   "file_extension": ".py",
   "mimetype": "text/x-python",
   "name": "python",
   "nbconvert_exporter": "python",
   "pygments_lexer": "ipython3",
   "version": "3.9.5"
  }
 },
 "nbformat": 4,
 "nbformat_minor": 4
}
