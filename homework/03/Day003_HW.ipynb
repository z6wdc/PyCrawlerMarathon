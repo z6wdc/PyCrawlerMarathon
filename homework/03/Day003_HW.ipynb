{
 "cells": [
  {
   "cell_type": "markdown",
   "metadata": {},
   "source": [
    "# Python 下載XML檔案與解析\n",
    "\n",
    "\n",
    "* 了解 xml 檔案格式與內容\n",
    "* 能夠利用套件存取 xml 格式的檔案\n"
   ]
  },
  {
   "cell_type": "markdown",
   "metadata": {},
   "source": [
    "## 作業目標\n",
    "\n",
    "* 比較一下範例檔案中的「File I/O」與「xmltodict」讀出來的內容有什麼差異\n",
    "\n",
    "* 根據範例檔案的結果：\n",
    "    1. 請問高雄市有多少地區有溫度資料？\n",
    "    2. 請取出每一個地區所記錄的第一個時間點跟溫度\n",
    "    3. 請取出第一個地區所記錄的每一個時間點跟溫度"
   ]
  },
  {
   "cell_type": "markdown",
   "metadata": {},
   "source": [
    "### 比較一下範例檔案中的「File I/O」與「xmltodict」讀出來的內容有什麼差異\n"
   ]
  },
  {
   "cell_type": "markdown",
   "metadata": {},
   "source": [
    "### 根據範例檔案的結果：\n",
    "\n",
    "1. 請問高雄市有多少地區有溫度資料？\n",
    "2. 請取出每一個地區所記錄的第一個時間點跟溫度\n",
    "3. 請取出第一個地區所記錄的每一個時間點跟溫度"
   ]
  },
  {
   "cell_type": "code",
   "execution_count": 26,
   "metadata": {},
   "outputs": [
    {
     "name": "stdout",
     "output_type": "stream",
     "text": [
      "<?xml version=\"1.0\" encoding=\"utf-8\"?>\n",
      "<cwbopendata xmlns=\"urn:cwb:gov:tw:cwbcommon:0.1\">\n",
      "  <identifier>01aecb9f-c74d-49ab-a5d8-7c4a62cfaacb</identifier>\n",
      "  <sender>weather@cwb.gov.tw</sender>\n",
      "  <sent>2021-08-01T06:19:26+08:00</sent>\n",
      "  <status>Actual</status>\n",
      "  <scope>Public</scope>\n",
      "  <msgType>Issue</msgType>\n",
      "  <dataid>D0047-065</dataid>\n",
      "  <source>MFC</source>\n",
      "  <dataset>\n",
      "    <datasetInfo>\n",
      "      <datasetDescription>臺灣各縣市鄉鎮未來3天(72小時)逐3小時天氣預報</datasetDescription>\n",
      "      <datasetLanguage>zh-TW</datasetLanguage>\n",
      "      <issueTime>2021-08-01T05:00:00+08:00</issueTime>\n",
      "      <validTime>\n",
      "        <startTime>2021-08-01T06:00:00+08:00</startTime>\n",
      "        <endTime>2021-08-04T05:00:00+08:00</endTime>\n",
      "      </validTime>\n",
      "      <update>2021-08-01T06:19:26+08:00</update>\n",
      "    </datasetInfo>\n",
      "    <locations>\n",
      "      <locationsName>高雄市</locationsName>\n",
      "      <location>\n",
      "        <locationName>鹽埕區</locationName>\n",
      "        <geocode>64000010</geocode>\n",
      "        <lat>22.626497</lat>\n",
      "        <lon>120.278707</lon>\n",
      "        <weatherElement>\n",
      "          <elementName>T</elementName>\n",
      "          <description>溫度</description>\n",
      "          <time>\n",
      "            <dataTime>2021-08-01T06:00:00+08:00</dataTime>\n",
      "            <elementValue>\n",
      "              <value>25</value>\n",
      "              <measures>攝氏度</measures>\n",
      "            </elementValue>\n",
      "          </time>\n",
      "          <time>\n",
      "            <dataTime>2021-08-01T09:00:00+08:00</dataTime>\n",
      "            <elementValue>\n",
      "              <value>27</value>\n",
      "              <measures>攝氏度</measures>\n",
      "            </elementValue>\n",
      "          </time>\n",
      "          <time>\n",
      "            <dataTime>2021-08-01T12:00:00+08:00</dataTime>\n",
      "            <elementValue>\n",
      "              <value>28</value>\n",
      "              <measures>攝氏度</measures>\n",
      "            </elementValue>\n",
      "          </time>\n",
      "          <time>\n",
      "            <dataTime>2021-08-01T15:00:00+08:00</dataTime>\n",
      "            <elementValue>\n",
      "              <value>28</value>\n",
      "              <measures>攝氏度</measures>\n",
      "            </elementValue>\n",
      "          </time>\n",
      "          <time>\n",
      "       \n"
     ]
    }
   ],
   "source": [
    "with open('./data/64_72hr_CH.xml') as f:\n",
    "    xml = f.read()\n",
    "\n",
    "print(xml[:2000])"
   ]
  },
  {
   "cell_type": "code",
   "execution_count": 27,
   "metadata": {},
   "outputs": [],
   "source": [
    "import xmltodict\n",
    "from pprint import pprint\n",
    "\n",
    "doc = dict(xmltodict.parse(xml))"
   ]
  },
  {
   "cell_type": "code",
   "execution_count": 16,
   "metadata": {},
   "outputs": [
    {
     "name": "stdout",
     "output_type": "stream",
     "text": [
      "38\n",
      "鹽埕區\n",
      "鼓山區\n",
      "左營區\n",
      "楠梓區\n",
      "三民區\n",
      "新興區\n",
      "前金區\n",
      "苓雅區\n",
      "前鎮區\n",
      "旗津區\n",
      "小港區\n",
      "鳳山區\n",
      "林園區\n",
      "大寮區\n",
      "大樹區\n",
      "大社區\n",
      "仁武區\n",
      "鳥松區\n",
      "岡山區\n",
      "橋頭區\n",
      "燕巢區\n",
      "田寮區\n",
      "阿蓮區\n",
      "路竹區\n",
      "湖內區\n",
      "茄萣區\n",
      "永安區\n",
      "彌陀區\n",
      "梓官區\n",
      "旗山區\n",
      "美濃區\n",
      "六龜區\n",
      "甲仙區\n",
      "杉林區\n",
      "內門區\n",
      "茂林區\n",
      "桃源區\n",
      "那瑪夏區\n"
     ]
    }
   ],
   "source": [
    "# 1. 請問高雄市有多少地區有溫度資料？\n",
    "\n",
    "locations = doc['cwbopendata']['dataset']['locations']['location']\n",
    "print(len(locations))\n",
    "\n",
    "for location in doc['cwbopendata']['dataset']['locations']['location']:\n",
    "    print(location['locationName'])"
   ]
  },
  {
   "cell_type": "code",
   "execution_count": 40,
   "metadata": {},
   "outputs": [
    {
     "name": "stdout",
     "output_type": "stream",
     "text": [
      "OrderedDict([('dataTime', '2021-08-01T06:00:00+08:00'),\n",
      "             ('elementValue',\n",
      "              OrderedDict([('value', '25'), ('measures', '攝氏度')]))])\n"
     ]
    }
   ],
   "source": [
    "pprint(doc['cwbopendata']['dataset']['locations']['location'][0]['weatherElement'][0]['time'][0])"
   ]
  },
  {
   "cell_type": "code",
   "execution_count": 44,
   "metadata": {},
   "outputs": [
    {
     "name": "stdout",
     "output_type": "stream",
     "text": [
      "鹽埕區\n",
      "2021-08-01T06:00:00+08:00\n",
      "OrderedDict([('value', '25'), ('measures', '攝氏度')])\n",
      "鼓山區\n",
      "2021-08-01T06:00:00+08:00\n",
      "OrderedDict([('value', '25'), ('measures', '攝氏度')])\n",
      "左營區\n",
      "2021-08-01T06:00:00+08:00\n",
      "OrderedDict([('value', '25'), ('measures', '攝氏度')])\n",
      "楠梓區\n",
      "2021-08-01T06:00:00+08:00\n",
      "OrderedDict([('value', '25'), ('measures', '攝氏度')])\n",
      "三民區\n",
      "2021-08-01T06:00:00+08:00\n",
      "OrderedDict([('value', '25'), ('measures', '攝氏度')])\n",
      "新興區\n",
      "2021-08-01T06:00:00+08:00\n",
      "OrderedDict([('value', '25'), ('measures', '攝氏度')])\n",
      "前金區\n",
      "2021-08-01T06:00:00+08:00\n",
      "OrderedDict([('value', '25'), ('measures', '攝氏度')])\n",
      "苓雅區\n",
      "2021-08-01T06:00:00+08:00\n",
      "OrderedDict([('value', '25'), ('measures', '攝氏度')])\n",
      "前鎮區\n",
      "2021-08-01T06:00:00+08:00\n",
      "OrderedDict([('value', '25'), ('measures', '攝氏度')])\n",
      "旗津區\n",
      "2021-08-01T06:00:00+08:00\n",
      "OrderedDict([('value', '25'), ('measures', '攝氏度')])\n",
      "小港區\n",
      "2021-08-01T06:00:00+08:00\n",
      "OrderedDict([('value', '25'), ('measures', '攝氏度')])\n",
      "鳳山區\n",
      "2021-08-01T06:00:00+08:00\n",
      "OrderedDict([('value', '24'), ('measures', '攝氏度')])\n",
      "林園區\n",
      "2021-08-01T06:00:00+08:00\n",
      "OrderedDict([('value', '25'), ('measures', '攝氏度')])\n",
      "大寮區\n",
      "2021-08-01T06:00:00+08:00\n",
      "OrderedDict([('value', '25'), ('measures', '攝氏度')])\n",
      "大樹區\n",
      "2021-08-01T06:00:00+08:00\n",
      "OrderedDict([('value', '24'), ('measures', '攝氏度')])\n",
      "大社區\n",
      "2021-08-01T06:00:00+08:00\n",
      "OrderedDict([('value', '24'), ('measures', '攝氏度')])\n",
      "仁武區\n",
      "2021-08-01T06:00:00+08:00\n",
      "OrderedDict([('value', '25'), ('measures', '攝氏度')])\n",
      "鳥松區\n",
      "2021-08-01T06:00:00+08:00\n",
      "OrderedDict([('value', '24'), ('measures', '攝氏度')])\n",
      "岡山區\n",
      "2021-08-01T06:00:00+08:00\n",
      "OrderedDict([('value', '24'), ('measures', '攝氏度')])\n",
      "橋頭區\n",
      "2021-08-01T06:00:00+08:00\n",
      "OrderedDict([('value', '25'), ('measures', '攝氏度')])\n",
      "燕巢區\n",
      "2021-08-01T06:00:00+08:00\n",
      "OrderedDict([('value', '25'), ('measures', '攝氏度')])\n",
      "田寮區\n",
      "2021-08-01T06:00:00+08:00\n",
      "OrderedDict([('value', '25'), ('measures', '攝氏度')])\n",
      "阿蓮區\n",
      "2021-08-01T06:00:00+08:00\n",
      "OrderedDict([('value', '25'), ('measures', '攝氏度')])\n",
      "路竹區\n",
      "2021-08-01T06:00:00+08:00\n",
      "OrderedDict([('value', '25'), ('measures', '攝氏度')])\n",
      "湖內區\n",
      "2021-08-01T06:00:00+08:00\n",
      "OrderedDict([('value', '25'), ('measures', '攝氏度')])\n",
      "茄萣區\n",
      "2021-08-01T06:00:00+08:00\n",
      "OrderedDict([('value', '25'), ('measures', '攝氏度')])\n",
      "永安區\n",
      "2021-08-01T06:00:00+08:00\n",
      "OrderedDict([('value', '25'), ('measures', '攝氏度')])\n",
      "彌陀區\n",
      "2021-08-01T06:00:00+08:00\n",
      "OrderedDict([('value', '25'), ('measures', '攝氏度')])\n",
      "梓官區\n",
      "2021-08-01T06:00:00+08:00\n",
      "OrderedDict([('value', '24'), ('measures', '攝氏度')])\n",
      "旗山區\n",
      "2021-08-01T06:00:00+08:00\n",
      "OrderedDict([('value', '24'), ('measures', '攝氏度')])\n",
      "美濃區\n",
      "2021-08-01T06:00:00+08:00\n",
      "OrderedDict([('value', '24'), ('measures', '攝氏度')])\n",
      "六龜區\n",
      "2021-08-01T06:00:00+08:00\n",
      "OrderedDict([('value', '24'), ('measures', '攝氏度')])\n",
      "甲仙區\n",
      "2021-08-01T06:00:00+08:00\n",
      "OrderedDict([('value', '23'), ('measures', '攝氏度')])\n",
      "杉林區\n",
      "2021-08-01T06:00:00+08:00\n",
      "OrderedDict([('value', '24'), ('measures', '攝氏度')])\n",
      "內門區\n",
      "2021-08-01T06:00:00+08:00\n",
      "OrderedDict([('value', '24'), ('measures', '攝氏度')])\n",
      "茂林區\n",
      "2021-08-01T06:00:00+08:00\n",
      "OrderedDict([('value', '23'), ('measures', '攝氏度')])\n",
      "桃源區\n",
      "2021-08-01T06:00:00+08:00\n",
      "OrderedDict([('value', '23'), ('measures', '攝氏度')])\n",
      "那瑪夏區\n",
      "2021-08-01T06:00:00+08:00\n",
      "OrderedDict([('value', '21'), ('measures', '攝氏度')])\n"
     ]
    }
   ],
   "source": [
    "# 2. 請取出每一個地區所記錄的第一個時間點跟溫度\n",
    "\n",
    "for location in doc['cwbopendata']['dataset']['locations']['location']:\n",
    "    print(location['locationName'])\n",
    "    print(location['weatherElement'][0]['time'][0]['dataTime'])\n",
    "    print(location['weatherElement'][0]['time'][0]['elementValue'])"
   ]
  },
  {
   "cell_type": "code",
   "execution_count": 45,
   "metadata": {},
   "outputs": [
    {
     "name": "stdout",
     "output_type": "stream",
     "text": [
      "OrderedDict([('dataTime', '2021-08-01T06:00:00+08:00'),\n",
      "             ('elementValue',\n",
      "              OrderedDict([('value', '25'), ('measures', '攝氏度')]))])\n"
     ]
    }
   ],
   "source": [
    "pprint(doc['cwbopendata']['dataset']['locations']['location'][0]['weatherElement'][0]['time'][0])"
   ]
  },
  {
   "cell_type": "code",
   "execution_count": 48,
   "metadata": {},
   "outputs": [
    {
     "name": "stdout",
     "output_type": "stream",
     "text": [
      "2021-08-01T06:00:00+08:00\n",
      "OrderedDict([('value', '25'), ('measures', '攝氏度')])\n",
      "2021-08-01T09:00:00+08:00\n",
      "OrderedDict([('value', '27'), ('measures', '攝氏度')])\n",
      "2021-08-01T12:00:00+08:00\n",
      "OrderedDict([('value', '28'), ('measures', '攝氏度')])\n",
      "2021-08-01T15:00:00+08:00\n",
      "OrderedDict([('value', '28'), ('measures', '攝氏度')])\n",
      "2021-08-01T18:00:00+08:00\n",
      "OrderedDict([('value', '26'), ('measures', '攝氏度')])\n",
      "2021-08-01T21:00:00+08:00\n",
      "OrderedDict([('value', '26'), ('measures', '攝氏度')])\n",
      "2021-08-02T00:00:00+08:00\n",
      "OrderedDict([('value', '25'), ('measures', '攝氏度')])\n",
      "2021-08-02T03:00:00+08:00\n",
      "OrderedDict([('value', '25'), ('measures', '攝氏度')])\n",
      "2021-08-02T06:00:00+08:00\n",
      "OrderedDict([('value', '24'), ('measures', '攝氏度')])\n",
      "2021-08-02T09:00:00+08:00\n",
      "OrderedDict([('value', '27'), ('measures', '攝氏度')])\n",
      "2021-08-02T12:00:00+08:00\n",
      "OrderedDict([('value', '28'), ('measures', '攝氏度')])\n",
      "2021-08-02T15:00:00+08:00\n",
      "OrderedDict([('value', '28'), ('measures', '攝氏度')])\n",
      "2021-08-02T18:00:00+08:00\n",
      "OrderedDict([('value', '27'), ('measures', '攝氏度')])\n",
      "2021-08-02T21:00:00+08:00\n",
      "OrderedDict([('value', '27'), ('measures', '攝氏度')])\n",
      "2021-08-03T00:00:00+08:00\n",
      "OrderedDict([('value', '27'), ('measures', '攝氏度')])\n",
      "2021-08-03T03:00:00+08:00\n",
      "OrderedDict([('value', '26'), ('measures', '攝氏度')])\n",
      "2021-08-03T06:00:00+08:00\n",
      "OrderedDict([('value', '26'), ('measures', '攝氏度')])\n",
      "2021-08-03T09:00:00+08:00\n",
      "OrderedDict([('value', '28'), ('measures', '攝氏度')])\n",
      "2021-08-03T12:00:00+08:00\n",
      "OrderedDict([('value', '30'), ('measures', '攝氏度')])\n",
      "2021-08-03T15:00:00+08:00\n",
      "OrderedDict([('value', '30'), ('measures', '攝氏度')])\n",
      "2021-08-03T18:00:00+08:00\n",
      "OrderedDict([('value', '28'), ('measures', '攝氏度')])\n",
      "2021-08-03T21:00:00+08:00\n",
      "OrderedDict([('value', '28'), ('measures', '攝氏度')])\n",
      "2021-08-04T00:00:00+08:00\n",
      "OrderedDict([('value', '27'), ('measures', '攝氏度')])\n",
      "2021-08-04T03:00:00+08:00\n",
      "OrderedDict([('value', '27'), ('measures', '攝氏度')])\n"
     ]
    }
   ],
   "source": [
    "# 3. 請取出第一個地區所記錄的每一個時間點跟溫度\n",
    "\n",
    "for time in doc['cwbopendata']['dataset']['locations']['location'][0]['weatherElement'][0]['time']:\n",
    "    print(time['dataTime'])\n",
    "    print(time['elementValue'])"
   ]
  }
 ],
 "metadata": {
  "kernelspec": {
   "display_name": "Python 3 (ipykernel)",
   "language": "python",
   "name": "python3"
  },
  "language_info": {
   "codemirror_mode": {
    "name": "ipython",
    "version": 3
   },
   "file_extension": ".py",
   "mimetype": "text/x-python",
   "name": "python",
   "nbconvert_exporter": "python",
   "pygments_lexer": "ipython3",
   "version": "3.9.5"
  }
 },
 "nbformat": 4,
 "nbformat_minor": 4
}
