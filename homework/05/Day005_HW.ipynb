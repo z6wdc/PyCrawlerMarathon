{
 "cells": [
  {
   "cell_type": "markdown",
   "metadata": {},
   "source": [
    "# API 資料串接 - 以 Dcard API 實作範例\n",
    "\n",
    "* 了解 Dcard API 使用方式與回傳內容\n",
    "* 撰寫程式存取 API 且解析 JSON 格式資料\n"
   ]
  },
  {
   "cell_type": "markdown",
   "metadata": {},
   "source": [
    "## 作業目標\n",
    "\n",
    "* 請利用 API: https://www.dcard.tw/_api/forums/pet/posts?popular=true 回答下列問題：\n",
    "\n",
    "1. 這個 API 一次會回傳幾筆資料？每一筆資料包含哪些欄位？\n",
    "2. 取出每一筆資料的「標題」、「貼文時間」、「留言人數」、「按讚人數」\n",
    "3. 計算熱門/非熱門文章的「平均留言人數」與「平均按讚人數」"
   ]
  },
  {
   "cell_type": "code",
   "execution_count": 2,
   "metadata": {},
   "outputs": [],
   "source": [
    "import requests\n",
    "import json"
   ]
  },
  {
   "cell_type": "code",
   "execution_count": 16,
   "metadata": {},
   "outputs": [
    {
     "data": {
      "text/plain": [
       "{'id': 236623033,\n",
       " 'title': '有沒有人要養3-4個月的小貓',\n",
       " 'excerpt': '在新北三重！！拜託給他們一個溫暖的家！！',\n",
       " 'anonymousSchool': False,\n",
       " 'anonymousDepartment': True,\n",
       " 'pinned': False,\n",
       " 'forumId': '7ee21581-1307-4ba9-b9dc-82028bdcca49',\n",
       " 'replyId': None,\n",
       " 'createdAt': '2021-08-01T12:30:43.873Z',\n",
       " 'updatedAt': '2021-08-01T12:30:43.873Z',\n",
       " 'commentCount': 11,\n",
       " 'likeCount': 111,\n",
       " 'withNickname': False,\n",
       " 'tags': [],\n",
       " 'topics': [],\n",
       " 'meta': {'layout': 'classic'},\n",
       " 'forumName': '寵物',\n",
       " 'forumAlias': 'pet',\n",
       " 'nsfw': False,\n",
       " 'gender': 'F',\n",
       " 'school': '東吳大學',\n",
       " 'replyTitle': None,\n",
       " 'mediaMeta': [{'id': '023948c8-a8f1-429b-8243-8816fc8a3cf9',\n",
       "   'url': 'https://i.imgur.com/Q8BJ4Ayl.jpg',\n",
       "   'normalizedUrl': 'https://i.imgur.com/Q8BJ4Ayl.jpg',\n",
       "   'thumbnail': 'https://i.imgur.com/Q8BJ4Ayl.jpg',\n",
       "   'type': 'image/thumbnail',\n",
       "   'tags': [],\n",
       "   'createdAt': '2021-08-01T12:30:43.873Z',\n",
       "   'updatedAt': '2021-08-01T12:30:43.873Z',\n",
       "   'width': 925,\n",
       "   'height': 2000},\n",
       "  {'id': '023948c8-a8f1-429b-8243-8816fc8a3cf9',\n",
       "   'url': 'https://i.imgur.com/Q8BJ4Ay.jpg',\n",
       "   'normalizedUrl': 'https://imgur.com/Q8BJ4Ay',\n",
       "   'thumbnail': 'https://i.imgur.com/Q8BJ4Ayl.jpg',\n",
       "   'type': 'image/imgur',\n",
       "   'tags': [],\n",
       "   'createdAt': '2021-08-01T12:30:43.873Z',\n",
       "   'updatedAt': '2021-08-01T12:30:43.873Z',\n",
       "   'width': 925,\n",
       "   'height': 2000}],\n",
       " 'reactions': [{'id': '286f599c-f86a-4932-82f0-f5a06f1eca03', 'count': 110},\n",
       "  {'id': '9089dd9e-e158-4909-9da9-5de98bdb29a5', 'count': 1}],\n",
       " 'hidden': False,\n",
       " 'customStyle': None,\n",
       " 'isSuspiciousAccount': False,\n",
       " 'isModerator': False,\n",
       " 'layout': 'classic',\n",
       " 'spoilerAlert': False,\n",
       " 'totalCommentCount': 11,\n",
       " 'withImages': True,\n",
       " 'withVideos': False,\n",
       " 'media': [{'url': 'https://i.imgur.com/Q8BJ4Ay.jpg'}],\n",
       " 'reportReasonText': '',\n",
       " 'excerptComments': [],\n",
       " 'postAvatar': '',\n",
       " 'activityAvatar': '',\n",
       " 'verifiedBadge': False,\n",
       " 'memberType': ''}"
      ]
     },
     "execution_count": 16,
     "metadata": {},
     "output_type": "execute_result"
    }
   ],
   "source": [
    "r = requests.get('https://www.dcard.tw/_api/forums/pet/posts?popular=true')\n",
    "response = json.loads(r.text)\n",
    "\n",
    "response[0]"
   ]
  },
  {
   "cell_type": "code",
   "execution_count": 13,
   "metadata": {},
   "outputs": [
    {
     "name": "stdout",
     "output_type": "stream",
     "text": [
      "30筆資料\n",
      "id\n",
      "title\n",
      "excerpt\n",
      "anonymousSchool\n",
      "anonymousDepartment\n",
      "pinned\n",
      "forumId\n",
      "replyId\n",
      "createdAt\n",
      "updatedAt\n",
      "commentCount\n",
      "likeCount\n",
      "withNickname\n",
      "tags\n",
      "topics\n",
      "meta\n",
      "forumName\n",
      "forumAlias\n",
      "nsfw\n",
      "gender\n",
      "school\n",
      "replyTitle\n",
      "mediaMeta\n",
      "reactions\n",
      "hidden\n",
      "customStyle\n",
      "isSuspiciousAccount\n",
      "isModerator\n",
      "layout\n",
      "spoilerAlert\n",
      "totalCommentCount\n",
      "withImages\n",
      "withVideos\n",
      "media\n",
      "reportReasonText\n",
      "excerptComments\n",
      "postAvatar\n",
      "activityAvatar\n",
      "verifiedBadge\n",
      "memberType\n"
     ]
    }
   ],
   "source": [
    "# 1. 這個 API 一次會回傳幾筆資料？每一筆資料包含哪些欄位？\n",
    "print(f'{len(response)}筆資料')\n",
    "\n",
    "for key in response[0]:\n",
    "    print(key)"
   ]
  },
  {
   "cell_type": "code",
   "execution_count": 15,
   "metadata": {},
   "outputs": [
    {
     "name": "stdout",
     "output_type": "stream",
     "text": [
      "有沒有人要養3-4個月的小貓 2021-08-01T12:30:43.873Z 留言人數 11 按讚人數 111\n",
      "撿到了❤️ 2021-08-02T04:43:59.684Z 留言人數 5 按讚人數 70\n",
      "會玩你丟我撿的貓貓 2021-08-01T07:17:27.589Z 留言人數 10 按讚人數 63\n",
      "第一次跟養貓、跟貓培養感情經驗(´･ω･`) 2021-08-01T02:53:13.576Z 留言人數 6 按讚人數 47\n",
      "德國放養貓花費＋回憶紀錄🥺 2021-08-01T20:42:39.592Z 留言人數 13 按讚人數 44\n",
      "被自己的貓萌出一臉鼻血的我（圖多 2021-08-01T17:33:14.019Z 留言人數 5 按讚人數 37\n",
      "#圖 一隻小頑皮的成長史 2021-08-01T06:13:15.470Z 留言人數 2 按讚人數 33\n",
      "跟貓咪一起看奧運 2021-08-01T07:13:13.103Z 留言人數 6 按讚人數 29\n",
      "倉鼠眼球脫出的摘眼球手術記 2021-08-01T12:21:47.151Z 留言人數 3 按讚人數 26\n",
      "兔子分泌奇怪的液體 2021-08-01T07:37:44.443Z 留言人數 6 按讚人數 22\n",
      "我家有隻小海豹🦭 2021-08-02T02:16:40.727Z 留言人數 3 按讚人數 20\n",
      "貓咪們闖進了我們的生活❤️ 2021-08-01T09:35:20.223Z 留言人數 2 按讚人數 20\n",
      "野貓來家裡生小孩 2021-08-02T03:29:55.322Z 留言人數 8 按讚人數 19\n",
      "睡鼠🐹 2021-08-01T07:06:19.592Z 留言人數 7 按讚人數 18\n",
      "一系列貓床友入睡照🥰 2021-08-01T05:25:22.470Z 留言人數 4 按讚人數 18\n",
      "#分享 可愛的大型抱枕~古代牧羊犬 2021-08-02T08:39:44.722Z 留言人數 0 按讚人數 17\n",
      "狗狗被叮了個大包臉腫腫 2021-08-02T04:32:18.172Z 留言人數 2 按讚人數 16\n",
      "#問 黏媽媽的小貓怎麼辦 2021-08-01T06:10:11.084Z 留言人數 8 按讚人數 15\n",
      "高雄黑貴賓🐶認養文 2021-08-01T06:33:28.808Z 留言人數 8 按讚人數 11\n",
      "求救 家裡的貓一直愛咬人 2021-08-01T21:25:30.615Z 留言人數 8 按讚人數 10\n",
      "長照-照護者的掙扎 2021-08-01T15:45:03.774Z 留言人數 3 按讚人數 10\n",
      "剛帶回家的小貓咪🐱 2021-08-01T17:34:17.177Z 留言人數 9 按讚人數 8\n",
      "#詢問 貓媽媽與小貓結紮 2021-08-01T14:57:28.468Z 留言人數 23 按讚人數 6\n",
      "小心，x城寵物美容 剃毛剃破皮 2021-08-01T12:00:54.443Z 留言人數 6 按讚人數 6\n",
      "老狗該如何送養 2021-08-01T05:08:37.789Z 留言人數 4 按讚人數 6\n",
      "蝦皮凍乾惡劣賣家分享（文長） 2021-08-02T06:21:08.589Z 留言人數 2 按讚人數 5\n",
      "＃問 魚的嘴巴怎麼了 2021-08-01T07:19:08.623Z 留言人數 11 按讚人數 4\n",
      "美短吃高麗菜 2021-08-02T07:50:14.216Z 留言人數 0 按讚人數 3\n",
      "#圖 分享老年老鼠的可愛照 2021-08-02T07:22:53.940Z 留言人數 0 按讚人數 3\n",
      "自繁鬥魚分享 2021-08-01T20:03:15.232Z 留言人數 0 按讚人數 3\n"
     ]
    }
   ],
   "source": [
    "# 2. 取出每一筆資料的「標題」、「貼文時間」、「留言人數」、「按讚人數」\n",
    "for post in response:\n",
    "    print(post['title'], post['createdAt'], '留言人數', post['commentCount'], '按讚人數', post['likeCount'])"
   ]
  },
  {
   "cell_type": "code",
   "execution_count": 18,
   "metadata": {},
   "outputs": [
    {
     "name": "stdout",
     "output_type": "stream",
     "text": [
      "avg comment count: 5.833333333333333\n",
      "avg like count: 23.333333333333332\n"
     ]
    }
   ],
   "source": [
    "# 3. 計算熱門/非熱門文章的「平均留言人數」與「平均按讚人數」\n",
    "\n",
    "r = requests.get('https://www.dcard.tw/_api/forums/pet/posts?popular=true')\n",
    "response = json.loads(r.text)\n",
    "\n",
    "commentCount = 0\n",
    "likeCount = 0\n",
    "\n",
    "for post in response:\n",
    "    commentCount += post['commentCount']\n",
    "    likeCount += post['likeCount']\n",
    "    \n",
    "print(f'avg comment count: {commentCount/len(response)}')\n",
    "print(f'avg like count: {likeCount/len(response)}')"
   ]
  },
  {
   "cell_type": "code",
   "execution_count": 19,
   "metadata": {},
   "outputs": [
    {
     "name": "stdout",
     "output_type": "stream",
     "text": [
      "avg comment count: 1.4333333333333333\n",
      "avg like count: 6.7\n"
     ]
    }
   ],
   "source": [
    "r = requests.get('https://www.dcard.tw/_api/forums/pet/posts?popular=false')\n",
    "response = json.loads(r.text)\n",
    "\n",
    "commentCount = 0\n",
    "likeCount = 0\n",
    "\n",
    "for post in response:\n",
    "    commentCount += post['commentCount']\n",
    "    likeCount += post['likeCount']\n",
    "    \n",
    "print(f'avg comment count: {commentCount/len(response)}')\n",
    "print(f'avg like count: {likeCount/len(response)}')"
   ]
  }
 ],
 "metadata": {
  "kernelspec": {
   "display_name": "Python 3 (ipykernel)",
   "language": "python",
   "name": "python3"
  },
  "language_info": {
   "codemirror_mode": {
    "name": "ipython",
    "version": 3
   },
   "file_extension": ".py",
   "mimetype": "text/x-python",
   "name": "python",
   "nbconvert_exporter": "python",
   "pygments_lexer": "ipython3",
   "version": "3.9.5"
  }
 },
 "nbformat": 4,
 "nbformat_minor": 4
}
