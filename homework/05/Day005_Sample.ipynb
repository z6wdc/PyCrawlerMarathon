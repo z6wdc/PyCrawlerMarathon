{
 "cells": [
  {
   "cell_type": "markdown",
   "metadata": {},
   "source": [
    "# API 資料串接 - 以 Dcard API 實作範例\n",
    "\n",
    "\n",
    "* 了解 Dcard API 使用方式與回傳內容\n",
    "* 撰寫程式存取 API 且解析 JSON 格式資料\n",
    "\n",
    "\n",
    "\n"
   ]
  },
  {
   "cell_type": "markdown",
   "metadata": {},
   "source": [
    "## 下載檔案"
   ]
  },
  {
   "cell_type": "code",
   "execution_count": 3,
   "metadata": {},
   "outputs": [
    {
     "data": {
      "text/plain": [
       "'[{\"id\":236623033,\"title\":\"有沒有人要養3-4個月的小貓\",\"excerpt\":\"在新北三重！！拜託給他們一個溫暖的家！！\",\"anonymousSchool\":false,\"anonymousDepartment\":true,\"pinned\":false,\"forumId\":\"7ee21581-1307-4ba9-b9dc-82028bdcca49\",\"replyId\":null,\"createdAt\":\"2021-08-01T12:30:43.873Z\",\"updatedAt\":\"2021-08-01T12:30:43.873Z\",\"commentCount\":11,\"likeCount\":111,\"withNickname\":false,\"tags\":[],\"topics\":[],\"meta\":{\"layout\":\"classic\"},\"forumName\":\"寵物\",\"forumAlias\":\"pet\",\"nsfw\":false,\"gender\":\"F\",\"school\":\"東吳大學\",\"replyTitle\":null,\"mediaMeta\":[{\"id\":\"023948c8-a8f1-429b-8243-8816fc8a3cf9\",\"url\":\"https://i.imgur.com/Q8BJ4Ayl.jpg\",\"normalizedUrl\":\"https://i.imgur.com/Q8BJ4Ayl.jpg\",\"thumbnail\":\"https://i.imgur.com/Q8BJ4Ayl.jpg\",\"type\":\"image/thumbnail\",\"tags\":[],\"createdAt\":\"2021-08-01T12:30:43.873Z\",\"updatedAt\":\"2021-08-01T12:30:43.873Z\",\"width\":925,\"height\":2000},{\"id\":\"023948c8-a8f1-429b-8243-8816fc8a3cf9\",\"url\":\"https://i.imgur.com/Q8BJ4Ay.jpg\",\"normalizedUrl\":\"https://imgur.com/Q8BJ4Ay\",\"thumbnail\":\"https://i.imgur.com/Q8BJ4Ayl.jpg\",\"ty'"
      ]
     },
     "execution_count": 3,
     "metadata": {},
     "output_type": "execute_result"
    }
   ],
   "source": [
    "import requests\n",
    "r = requests.get('https://www.dcard.tw/_api/forums/pet/posts?popular=true')\n",
    "response = r.text\n",
    "\n",
    "response[:1000]"
   ]
  },
  {
   "cell_type": "code",
   "execution_count": 6,
   "metadata": {},
   "outputs": [
    {
     "name": "stdout",
     "output_type": "stream",
     "text": [
      "不要被薩摩耶給騙了！\n",
      "這些狗你認識嗎😍\n",
      "充滿柴柴的人生❤️\n",
      "#圖多 偷看🐹上廁所......\n",
      "請問這樣算不算虐貓\n",
      "兄弟貓🧐\n",
      "沒有責任感根本沒資格養寵物\n",
      "#圖 柴柴 你能懂我的明白嗎？\n",
      "紙袋破壞王🏆\n",
      "幼貓送養🐱\n",
      "高科大校板的遺失倉鼠\n",
      "天冷怎麼辦ಥ_ಥ #柯基#圖多\n",
      "我竟然被我家ㄉ狗鄙視！\n",
      "幼貓送養文\n",
      "#募款 #貓 愛在街角，守護浪貓\n",
      "貓咪教妳皮笑肉不笑🙂\n",
      "你也知道要坐那\n",
      "請問有人的柴犬走失嗎？(已找到失主，謝謝大家的幫忙🙏）\n",
      "求吸鴨地點\n",
      "當我的貓和海豹都是一個囧臉\n",
      "我養了一隻樹懶🦥\n",
      "協尋幼犬\n",
      "我家柴犬一系列照片\n",
      "就是你！！！我的菜！！！\n",
      "👻我的隱形貓貓\n",
      "有愛的假兄弟\n",
      "限動裡的小三線們\n",
      "問貓貓的帳號\n",
      "走失狗狗\n",
      "吸貓治百病\n"
     ]
    }
   ],
   "source": [
    "import json\n",
    "data = json.loads(response)\n",
    "\n",
    "for d in data:\n",
    "    print(d['title'])\n"
   ]
  },
  {
   "cell_type": "markdown",
   "metadata": {},
   "source": [
    "## 作業目標\n",
    "\n",
    "* 請利用 API: https://www.dcard.tw/_api/forums/pet/posts?popular=true 回答下列問題：\n",
    "\n",
    "    1. 這個 API 一次會回傳幾筆資料？每一筆資料包含哪些欄位？\n",
    "    2. 取出每一筆資料的「標題」、「貼文時間」、「留言人數」、「按讚人數」\n",
    "    3. 計算熱門/非熱門文章的「平均留言人數」與「平均按讚人數」\n",
    "\n",
    "\n",
    "\n"
   ]
  }
 ],
 "metadata": {
  "kernelspec": {
   "display_name": "Python 3 (ipykernel)",
   "language": "python",
   "name": "python3"
  },
  "language_info": {
   "codemirror_mode": {
    "name": "ipython",
    "version": 3
   },
   "file_extension": ".py",
   "mimetype": "text/x-python",
   "name": "python",
   "nbconvert_exporter": "python",
   "pygments_lexer": "ipython3",
   "version": "3.9.5"
  }
 },
 "nbformat": 4,
 "nbformat_minor": 4
}
