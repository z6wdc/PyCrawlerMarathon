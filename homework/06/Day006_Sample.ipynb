{
 "cells": [
  {
   "cell_type": "markdown",
   "metadata": {},
   "source": [
    "# API 資料串接 - 以 知乎 API 實作範例\n",
    "\n",
    "\n",
    "\n",
    "* 了解知乎 API 使用方式與回傳內容\n",
    "* 撰寫程式存取 API 且添加標頭\n",
    "\n",
    "\n"
   ]
  },
  {
   "cell_type": "markdown",
   "metadata": {},
   "source": [
    "## 下載檔案"
   ]
  },
  {
   "cell_type": "code",
   "execution_count": 1,
   "metadata": {},
   "outputs": [
    {
     "data": {
      "text/plain": [
       "'<html>\\r\\n<head><title>403 Forbidden</title></head>\\r\\n<body bgcolor=\"white\">\\r\\n<center><h1>403 Forbidden</h1></center>\\r\\n<hr><center>openresty</center>\\r\\n</body>\\r\\n</html>\\r\\n'"
      ]
     },
     "execution_count": 1,
     "metadata": {},
     "output_type": "execute_result"
    }
   ],
   "source": [
    "import requests\n",
    "r = requests.get('https://www.zhihu.com/api/v4/questions/55493026/answers')\n",
    "response = r.text\n",
    "\n",
    "response"
   ]
  },
  {
   "cell_type": "code",
   "execution_count": 5,
   "metadata": {},
   "outputs": [
    {
     "data": {
      "text/plain": [
       "'{\"data\":[{\"answer_type\":\"normal\",\"author\":{\"avatar_url\":\"https://pic2.zhimg.com/v2-ca6e7ffc10a0d10edbae635cee82d007_l.jpg?source=1940ef5c\",\"avatar_url_template\":\"https://pic2.zhimg.com/v2-ca6e7ffc10a0d10edbae635cee82d007.jpg?source=1940ef5c\",\"badge\":[{\"description\":\"已认证的官方帐号\",\"topics\":[],\"type\":\"identity\"},{\"description\":\"优秀答主\",\"topics\":[],\"type\":\"best_answerer\"}],\"badge_v2\":{\"detail_badges\":[{\"description\":\"2020 新知答主\",\"detail_type\":\"zhihu_yearly_answerer\",\"icon\":\"https://pic1.zhimg.com/v2-bf0eec3c31c8e866c468f60eb296696c_l.png\",\"night_icon\":\"https://pic1.zhimg.com/v2-c724649168d8f9d36d7c3d13140a2594_l.png\",\"sources\":[{\"avatar_path\":\"\",\"avatar_url\":\"\",\"description\":\"\",\"id\":\"2020\",\"name\":\"\",\"priority\":0,\"token\":\"\",\"type\":\"year\",\"url\":\"\"}],\"title\":\"新知答主\",\"type\":\"reward\",\"url\":\"\"},{\"description\":\"数学等 5 个话题下的优秀答主\",\"detail_type\":\"best_answerer\",\"icon\":\"https://pic3.zhimg.com/v2-bf0eec3c31c8e866c468f60eb296696c_l.png\",\"night_icon\":\"https://pic4.zhimg.com/v2-c724649168d8f9d36d7c3d13140a2594_l'"
      ]
     },
     "execution_count": 5,
     "metadata": {},
     "output_type": "execute_result"
    }
   ],
   "source": [
    "import requests\n",
    "headers = {'user-agent': 'my-app/0.0.1'}\n",
    "r = requests.get('https://www.zhihu.com/api/v4/questions/55493026/answers',headers=headers)\n",
    "response = r.text\n",
    "\n",
    "response[:1000]"
   ]
  },
  {
   "cell_type": "code",
   "execution_count": 6,
   "metadata": {},
   "outputs": [
    {
     "name": "stdout",
     "output_type": "stream",
     "text": [
      "{'answer_type': 'normal', 'author': {'avatar_url': 'https://pic2.zhimg.com/v2-ca6e7ffc10a0d10edbae635cee82d007_l.jpg?source=1940ef5c', 'avatar_url_template': 'https://pic2.zhimg.com/v2-ca6e7ffc10a0d10edbae635cee82d007.jpg?source=1940ef5c', 'badge': [{'description': '已认证的官方帐号', 'topics': [], 'type': 'identity'}, {'description': '优秀答主', 'topics': [], 'type': 'best_answerer'}], 'badge_v2': {'detail_badges': [{'description': '2020 新知答主', 'detail_type': 'zhihu_yearly_answerer', 'icon': 'https://pic1.zhimg.com/v2-bf0eec3c31c8e866c468f60eb296696c_l.png', 'night_icon': 'https://pic1.zhimg.com/v2-c724649168d8f9d36d7c3d13140a2594_l.png', 'sources': [{'avatar_path': '', 'avatar_url': '', 'description': '', 'id': '2020', 'name': '', 'priority': 0, 'token': '', 'type': 'year', 'url': ''}], 'title': '新知答主', 'type': 'reward', 'url': ''}, {'description': '数学等 5 个话题下的优秀答主', 'detail_type': 'best_answerer', 'icon': 'https://pic3.zhimg.com/v2-bf0eec3c31c8e866c468f60eb296696c_l.png', 'night_icon': 'https://pic4.zhimg.com/v2-c724649168d8f9d36d7c3d13140a2594_l.png', 'sources': [{'avatar_path': 'v2-351d57389cf50b002a20606caac645cf', 'avatar_url': 'https://pic4.zhimg.com/v2-351d57389cf50b002a20606caac645cf_hd.jpg', 'description': '', 'id': '19554091', 'name': '数学', 'priority': 0, 'token': '19554091', 'type': 'topic', 'url': 'https://www.zhihu.com/topic/19554091'}, {'avatar_path': '6d7dc1d82127396331a952e93fda484e', 'avatar_url': 'https://pic2.zhimg.com/6d7dc1d82127396331a952e93fda484e_hd.jpg', 'description': '', 'id': '19556664', 'name': '科技', 'priority': 0, 'token': '19556664', 'type': 'topic', 'url': 'https://www.zhihu.com/topic/19556664'}, {'avatar_path': 'v2-f94b3093434c09b4501b056d142025e0', 'avatar_url': 'https://pic4.zhimg.com/v2-f94b3093434c09b4501b056d142025e0_hd.jpg', 'description': '', 'id': '19556895', 'name': '科研', 'priority': 0, 'token': '19556895', 'type': 'topic', 'url': 'https://www.zhihu.com/topic/19556895'}, {'avatar_path': 'v2-a4deab1b73004d7c3fda759c7942c53f', 'avatar_url': 'https://pic2.zhimg.com/v2-a4deab1b73004d7c3fda759c7942c53f_hd.jpg', 'description': '', 'id': '19635352', 'name': '自动驾驶', 'priority': 0, 'token': '19635352', 'type': 'topic', 'url': 'https://www.zhihu.com/topic/19635352'}, {'avatar_path': 'v2-c41d10d22173d515740c43c70f885705', 'avatar_url': 'https://pic4.zhimg.com/v2-c41d10d22173d515740c43c70f885705_hd.jpg', 'description': '', 'id': '19551275', 'name': '人工智能', 'priority': 0, 'token': '19551275', 'type': 'topic', 'url': 'https://www.zhihu.com/topic/19551275'}], 'title': '优秀答主', 'type': 'best', 'url': 'https://www.zhihu.com/topic/20054793'}, {'description': '已认证的官方帐号', 'detail_type': 'identity_org', 'icon': 'https://pic4.zhimg.com/v2-235258cecb8a0f184c4d38483cd6f6b6_l.png', 'night_icon': 'https://pic4.zhimg.com/v2-45e870b8f0982bcd7537ea4627afbd00_l.png', 'sources': [], 'title': '已认证的官方帐号', 'type': 'identity', 'url': 'https://www.zhihu.com/account/verification/intro'}], 'icon': 'https://pic2.zhimg.com/v2-7a1a13d7531f29551f79278e9391b8ee_l.png', 'merged_badges': [{'description': '2020 新知答主', 'detail_type': 'best', 'icon': '', 'night_icon': '', 'sources': [], 'title': '新知答主', 'type': 'best', 'url': ''}, {'description': '已认证的官方帐号', 'detail_type': 'identity', 'icon': '', 'night_icon': '', 'sources': [], 'title': '认证', 'type': 'identity', 'url': 'https://www.zhihu.com/account/verification/intro'}], 'night_icon': 'https://pic2.zhimg.com/v2-af71f641951fd5f8b4a7d305288693df_l.png', 'title': '2020 新知答主'}, 'gender': -1, 'headline': '有趣的AI&amp;前沿科技→_→ 公众号：QbitAI', 'id': '36f69162230003d316d0b8a6d8da20ba', 'is_advertiser': False, 'is_org': True, 'is_privacy': False, 'name': '量子位', 'type': 'people', 'url': 'https://www.zhihu.com/api/v4/people/36f69162230003d316d0b8a6d8da20ba', 'url_token': 'liang-zi-wei-48', 'user_type': 'organization'}, 'created_time': 1557824412, 'extras': '', 'id': 683070334, 'is_collapsed': False, 'is_copyable': True, 'question': {'created': 1486390229, 'id': 55493026, 'question_type': 'normal', 'relationship': {}, 'title': '你们都是怎么学 Python 的？', 'type': 'question', 'updated_time': 1582533957, 'url': 'https://www.zhihu.com/api/v4/questions/55493026'}, 'relationship': {'upvoted_followees': []}, 'type': 'answer', 'updated_time': 1557824412, 'url': 'https://www.zhihu.com/api/v4/answers/683070334'}\n",
      "{'answer_type': 'normal', 'author': {'avatar_url': 'https://pic2.zhimg.com/v2-ae68a298a82716426ad1a94f24492323_l.jpg?source=1940ef5c', 'avatar_url_template': 'https://pic3.zhimg.com/v2-ae68a298a82716426ad1a94f24492323.jpg?source=1940ef5c', 'badge': [{'description': '卿佳不文化传媒工作室 文案策划', 'topics': [], 'type': 'identity'}], 'badge_v2': {'detail_badges': [{'description': '卿佳不文化传媒工作室 文案策划', 'detail_type': 'identity_people', 'icon': 'https://pic2.zhimg.com/v2-235258cecb8a0f184c4d38483cd6f6b6_l.png', 'night_icon': 'https://pic2.zhimg.com/v2-45e870b8f0982bcd7537ea4627afbd00_l.png', 'sources': [], 'title': '已认证的个人', 'type': 'identity', 'url': 'https://www.zhihu.com/account/verification/intro'}], 'icon': 'https://pic3.zhimg.com/v2-235258cecb8a0f184c4d38483cd6f6b6_l.png', 'merged_badges': [{'description': '卿佳不文化传媒工作室 文案策划', 'detail_type': 'identity', 'icon': '', 'night_icon': '', 'sources': [], 'title': '认证', 'type': 'identity', 'url': 'https://www.zhihu.com/account/verification/intro'}], 'night_icon': 'https://pic1.zhimg.com/v2-45e870b8f0982bcd7537ea4627afbd00_l.png', 'title': '卿佳不文化传媒工作室 文案策划'}, 'gender': 0, 'headline': '琳忱（chen）——不知名吃瓜爱好博主', 'id': '4b27100fe4c7233fcee20252e6662657', 'is_advertiser': False, 'is_org': False, 'is_privacy': False, 'name': '琳忱', 'type': 'people', 'url': 'https://www.zhihu.com/api/v4/people/4b27100fe4c7233fcee20252e6662657', 'url_token': 'xin-xin-nian-73-74', 'user_type': 'people'}, 'created_time': 1616038282, 'extras': '', 'id': 1786380422, 'is_collapsed': False, 'is_copyable': True, 'question': {'created': 1486390229, 'id': 55493026, 'question_type': 'normal', 'relationship': {}, 'title': '你们都是怎么学 Python 的？', 'type': 'question', 'updated_time': 1582533957, 'url': 'https://www.zhihu.com/api/v4/questions/55493026'}, 'relationship': {'upvoted_followees': []}, 'type': 'answer', 'updated_time': 1623314814, 'url': 'https://www.zhihu.com/api/v4/answers/1786380422'}\n",
      "{'answer_type': 'normal', 'author': {'avatar_url': 'https://pica.zhimg.com/v2-9c326634115ea56ef90f8bcea6fd5c76_l.jpg?source=1940ef5c', 'avatar_url_template': 'https://pic3.zhimg.com/v2-9c326634115ea56ef90f8bcea6fd5c76.jpg?source=1940ef5c', 'badge': [{'description': '南开大学 情报学博士', 'topics': [], 'type': 'identity'}], 'badge_v2': {'detail_badges': [{'description': '南开大学 情报学博士', 'detail_type': 'identity_people', 'icon': 'https://pic2.zhimg.com/v2-235258cecb8a0f184c4d38483cd6f6b6_l.png', 'night_icon': 'https://pic4.zhimg.com/v2-45e870b8f0982bcd7537ea4627afbd00_l.png', 'sources': [], 'title': '已认证的个人', 'type': 'identity', 'url': 'https://www.zhihu.com/account/verification/intro'}], 'icon': 'https://pic1.zhimg.com/v2-235258cecb8a0f184c4d38483cd6f6b6_l.png', 'merged_badges': [{'description': '南开大学 情报学博士', 'detail_type': 'identity', 'icon': '', 'night_icon': '', 'sources': [], 'title': '认证', 'type': 'identity', 'url': 'https://www.zhihu.com/account/verification/intro'}], 'night_icon': 'https://pic4.zhimg.com/v2-45e870b8f0982bcd7537ea4627afbd00_l.png', 'title': '南开大学 情报学博士'}, 'gender': 1, 'headline': '终身学习者，大学教师。稍微懂一点儿写作、演讲和Python。公众号“玉树芝兰”。', 'id': '46b2a518f61efd370b21659543d229df', 'is_advertiser': False, 'is_org': False, 'is_privacy': False, 'name': '王树义', 'type': 'people', 'url': 'https://www.zhihu.com/api/v4/people/46b2a518f61efd370b21659543d229df', 'url_token': 'wang-shu-yi-11', 'user_type': 'people'}, 'created_time': 1581236119, 'extras': '', 'id': 1006688444, 'is_collapsed': False, 'is_copyable': False, 'question': {'created': 1486390229, 'id': 55493026, 'question_type': 'normal', 'relationship': {}, 'title': '你们都是怎么学 Python 的？', 'type': 'question', 'updated_time': 1582533957, 'url': 'https://www.zhihu.com/api/v4/questions/55493026'}, 'relationship': {'upvoted_followees': []}, 'type': 'answer', 'updated_time': 1581236119, 'url': 'https://www.zhihu.com/api/v4/answers/1006688444'}\n",
      "{'answer_type': 'normal', 'author': {'avatar_url': 'https://pic3.zhimg.com/958a18f3216805bed269d158fb83325a_l.jpg?source=1940ef5c', 'avatar_url_template': 'https://pic3.zhimg.com/958a18f3216805bed269d158fb83325a.jpg?source=1940ef5c', 'badge': [{'description': '优秀答主', 'topics': [], 'type': 'best_answerer'}], 'badge_v2': {'detail_badges': [{'description': '编程话题下的优秀答主', 'detail_type': 'best_answerer', 'icon': 'https://pic1.zhimg.com/v2-bf0eec3c31c8e866c468f60eb296696c_l.png', 'night_icon': 'https://pic2.zhimg.com/v2-c724649168d8f9d36d7c3d13140a2594_l.png', 'sources': [{'avatar_path': 'v2-27b8ba1e647956fa6f1a2a8ad90138ef', 'avatar_url': 'https://pic4.zhimg.com/v2-27b8ba1e647956fa6f1a2a8ad90138ef_hd.jpg', 'description': '', 'id': '19554298', 'name': '编程', 'priority': 0, 'token': '19554298', 'type': 'topic', 'url': 'https://www.zhihu.com/topic/19554298'}], 'title': '优秀答主', 'type': 'best', 'url': 'https://www.zhihu.com/topic/20054793'}], 'icon': 'https://pic3.zhimg.com/v2-bf0eec3c31c8e866c468f60eb296696c_l.png', 'merged_badges': [{'description': '编程话题下的优秀答主', 'detail_type': 'best', 'icon': '', 'night_icon': '', 'sources': [{'avatar_path': 'v2-27b8ba1e647956fa6f1a2a8ad90138ef', 'avatar_url': 'https://pic4.zhimg.com/v2-27b8ba1e647956fa6f1a2a8ad90138ef_hd.jpg', 'description': '', 'id': '19554298', 'name': '编程', 'priority': 0, 'token': '19554298', 'type': 'topic', 'url': 'https://www.zhihu.com/topic/19554298'}], 'title': '优秀答主', 'type': 'best', 'url': 'https://www.zhihu.com/topic/20054793'}], 'night_icon': 'https://pic3.zhimg.com/v2-c724649168d8f9d36d7c3d13140a2594_l.png', 'title': '编程话题下的优秀答主'}, 'gender': 1, 'headline': '微信公众号：路人甲TM，微信：904727147', 'id': 'eaf435b228ce0b038a4afe8203f59b49', 'is_advertiser': False, 'is_org': False, 'is_privacy': False, 'name': '路人甲', 'type': 'people', 'url': 'https://www.zhihu.com/api/v4/people/eaf435b228ce0b038a4afe8203f59b49', 'url_token': 'sgai', 'user_type': 'people'}, 'created_time': 1493693113, 'extras': '', 'id': 163537026, 'is_collapsed': False, 'is_copyable': True, 'question': {'created': 1486390229, 'id': 55493026, 'question_type': 'normal', 'relationship': {}, 'title': '你们都是怎么学 Python 的？', 'type': 'question', 'updated_time': 1582533957, 'url': 'https://www.zhihu.com/api/v4/questions/55493026'}, 'relationship': {'upvoted_followees': []}, 'type': 'answer', 'updated_time': 1604033439, 'url': 'https://www.zhihu.com/api/v4/answers/163537026'}\n",
      "{'answer_type': 'normal', 'author': {'avatar_url': 'https://pic1.zhimg.com/795efaf91_l.jpg?source=1940ef5c', 'avatar_url_template': 'https://pic1.zhimg.com/795efaf91.jpg?source=1940ef5c', 'badge': [], 'badge_v2': {'detail_badges': [], 'icon': '', 'merged_badges': [], 'night_icon': '', 'title': ''}, 'gender': 1, 'headline': '《Django企业开发实战》作者|公众号：Python程序员杂谈', 'id': 'a7825133bb77b0401a4badf192783707', 'is_advertiser': False, 'is_org': False, 'is_privacy': False, 'name': '胡阳', 'type': 'people', 'url': 'https://www.zhihu.com/api/v4/people/a7825133bb77b0401a4badf192783707', 'url_token': 'the5fire', 'user_type': 'people'}, 'created_time': 1558226316, 'extras': '', 'id': 687917097, 'is_collapsed': False, 'is_copyable': False, 'question': {'created': 1486390229, 'id': 55493026, 'question_type': 'normal', 'relationship': {}, 'title': '你们都是怎么学 Python 的？', 'type': 'question', 'updated_time': 1582533957, 'url': 'https://www.zhihu.com/api/v4/questions/55493026'}, 'relationship': {'upvoted_followees': []}, 'type': 'answer', 'updated_time': 1578476091, 'url': 'https://www.zhihu.com/api/v4/answers/687917097'}\n"
     ]
    }
   ],
   "source": [
    "import json\n",
    "data = json.loads(response)\n",
    "\n",
    "for d in data['data']:\n",
    "    print(d)\n",
    "\n"
   ]
  },
  {
   "cell_type": "markdown",
   "metadata": {},
   "source": [
    "## 作業目標\n",
    "\n",
    "* 根據範例提供的 API ，完成以下問題：\n",
    "\n",
    "    1. 取出知乎問題發問時間\n",
    "    2. 取出第一筆與最後一筆回答的時間\n",
    "\n",
    "\n",
    "\n"
   ]
  }
 ],
 "metadata": {
  "kernelspec": {
   "display_name": "Python 3 (ipykernel)",
   "language": "python",
   "name": "python3"
  },
  "language_info": {
   "codemirror_mode": {
    "name": "ipython",
    "version": 3
   },
   "file_extension": ".py",
   "mimetype": "text/x-python",
   "name": "python",
   "nbconvert_exporter": "python",
   "pygments_lexer": "ipython3",
   "version": "3.9.5"
  }
 },
 "nbformat": 4,
 "nbformat_minor": 4
}
