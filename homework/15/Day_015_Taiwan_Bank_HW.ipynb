{
 "cells": [
  {
   "cell_type": "markdown",
   "metadata": {},
   "source": [
    "# 台灣銀行牌告匯率爬蟲練習\n",
    "## 範例1： 練習爬取台幣對其他貨幣匯率資料"
   ]
  },
  {
   "cell_type": "code",
   "execution_count": 2,
   "metadata": {},
   "outputs": [],
   "source": [
    "import requests\n",
    "from bs4 import BeautifulSoup\n",
    "from datetime import datetime\n",
    "import pandas as pd\n",
    "import matplotlib.pyplot as plt"
   ]
  },
  {
   "cell_type": "markdown",
   "metadata": {},
   "source": [
    "### 進入台灣銀行牌告匯率網頁：https://rate.bot.com.tw/xrt?Lang=zh-TW ，擷取當日台幣對美金的匯率資訊"
   ]
  },
  {
   "cell_type": "code",
   "execution_count": 3,
   "metadata": {},
   "outputs": [
    {
     "name": "stdout",
     "output_type": "stream",
     "text": [
      "\n",
      "美金(USD)\n",
      "\n",
      "即時現金買入: 27.46, 即時現金賣出: 28.13\n"
     ]
    }
   ],
   "source": [
    "# 進入台灣銀行牌告匯率網頁，查看當日匯率資料\n",
    "url = \"https://rate.bot.com.tw/xrt?Lang=zh-TW\"\n",
    "resp = requests.get(url)\n",
    "resp.encoding = 'utf-8'\n",
    "# print(resp.text)  # 如有需要，列印出網頁原始碼\n",
    "\n",
    "html = BeautifulSoup(resp.text, \"lxml\")\n",
    "rate_table = html.find(name='table', attrs={'title':'牌告匯率'}).find(name='tbody').find_all(name='tr')\n",
    "\n",
    "# 查詢美金(也就是匯率表的第一個元素)對台幣的匯率\n",
    "currency = rate_table[0].find(name='div', attrs={'class':'visible-phone print_hide'})\n",
    "print(currency.get_text().replace(\" \", \"\"))  # 去掉空白\n",
    "\n",
    "buy_rate = rate_table[0].find(name='td', attrs={'data-table':'本行現金買入'})\n",
    "sell_rate = rate_table[0].find(name='td', attrs={'data-table':'本行現金賣出'})\n",
    "print(\"即時現金買入: %s, 即時現金賣出: %s\" % (buy_rate.get_text(), sell_rate.get_text()))"
   ]
  },
  {
   "cell_type": "markdown",
   "metadata": {},
   "source": [
    "### 作業part 1：請參考上面的範例，試著爬取所有貨幣對台幣的匯率"
   ]
  },
  {
   "cell_type": "code",
   "execution_count": 4,
   "metadata": {},
   "outputs": [
    {
     "name": "stdout",
     "output_type": "stream",
     "text": [
      "\n",
      "美金(USD)\n",
      "\n",
      "即時現金買入: 27.46, 即時現金賣出: 28.13\n",
      "\n",
      "港幣(HKD)\n",
      "\n",
      "即時現金買入: 3.424, 即時現金賣出: 3.628\n",
      "\n",
      "英鎊(GBP)\n",
      "\n",
      "即時現金買入: 37.36, 即時現金賣出: 39.48\n",
      "\n",
      "澳幣(AUD)\n",
      "\n",
      "即時現金買入: 20.1, 即時現金賣出: 20.88\n",
      "\n",
      "加拿大幣(CAD)\n",
      "\n",
      "即時現金買入: 21.78, 即時現金賣出: 22.69\n",
      "\n",
      "新加坡幣(SGD)\n",
      "\n",
      "即時現金買入: 19.96, 即時現金賣出: 20.87\n",
      "\n",
      "瑞士法郎(CHF)\n",
      "\n",
      "即時現金買入: 29.5, 即時現金賣出: 30.7\n",
      "\n",
      "日圓(JPY)\n",
      "\n",
      "即時現金買入: 0.2437, 即時現金賣出: 0.2565\n",
      "\n",
      "南非幣(ZAR)\n",
      "\n",
      "即時現金買入: -, 即時現金賣出: -\n",
      "\n",
      "瑞典幣(SEK)\n",
      "\n",
      "即時現金買入: 2.83, 即時現金賣出: 3.35\n",
      "\n",
      "紐元(NZD)\n",
      "\n",
      "即時現金買入: 19.08, 即時現金賣出: 19.93\n",
      "\n",
      "泰幣(THB)\n",
      "\n",
      "即時現金買入: 0.7082, 即時現金賣出: 0.8982\n",
      "\n",
      "菲國比索(PHP)\n",
      "\n",
      "即時現金買入: 0.4773, 即時現金賣出: 0.6103\n",
      "\n",
      "印尼幣(IDR)\n",
      "\n",
      "即時現金買入: 0.00158, 即時現金賣出: 0.00228\n",
      "\n",
      "歐元(EUR)\n",
      "\n",
      "即時現金買入: 31.98, 即時現金賣出: 33.32\n",
      "\n",
      "韓元(KRW)\n",
      "\n",
      "即時現金買入: 0.02221, 即時現金賣出: 0.02611\n",
      "\n",
      "越南盾(VND)\n",
      "\n",
      "即時現金買入: 0.00098, 即時現金賣出: 0.00139\n",
      "\n",
      "馬來幣(MYR)\n",
      "\n",
      "即時現金買入: 5.564, 即時現金賣出: 7.044\n",
      "\n",
      "人民幣(CNY)\n",
      "\n",
      "即時現金買入: 4.203, 即時現金賣出: 4.365\n"
     ]
    }
   ],
   "source": [
    "for rate in rate_table:\n",
    "    currency = rate.find(name='div', attrs={'class':'visible-phone print_hide'})\n",
    "    print(currency.get_text().replace(\" \", \"\"))  # 去掉空白\n",
    "    \n",
    "    buy_rate = rate.find(name='td', attrs={'data-table':'本行現金買入'})\n",
    "    sell_rate = rate.find(name='td', attrs={'data-table':'本行現金賣出'})\n",
    "    print(\"即時現金買入: %s, 即時現金賣出: %s\" % (buy_rate.get_text(), sell_rate.get_text()))"
   ]
  },
  {
   "cell_type": "markdown",
   "metadata": {},
   "source": [
    "## 範例2：爬取一個月的美金對台幣歷史匯率資料，並畫出趨勢圖"
   ]
  },
  {
   "cell_type": "code",
   "execution_count": 7,
   "metadata": {},
   "outputs": [
    {
     "name": "stdout",
     "output_type": "stream",
     "text": [
      "\n",
      "美金(USD)\n",
      "\n"
     ]
    },
    {
     "data": {
      "text/plain": [
       "<Figure size 720x576 with 0 Axes>"
      ]
     },
     "metadata": {},
     "output_type": "display_data"
    },
    {
     "data": {
      "image/png": "[encoded data removed]",
      "text/plain": [
       "<Figure size 432x288 with 1 Axes>"
      ]
     },
     "metadata": {
      "needs_background": "light"
     },
     "output_type": "display_data"
    }
   ],
   "source": [
    "# 先到牌告匯率首頁，爬取所有貨幣的種類\n",
    "url = \"https://rate.bot.com.tw/xrt?Lang=zh-TW\"\n",
    "resp = requests.get(url)\n",
    "resp.encoding = 'utf-8'\n",
    "html = BeautifulSoup(resp.text, \"lxml\")\n",
    "rate_table = html.find(name='table', attrs={'title':'牌告匯率'}).find(name='tbody').find_all(name='tr')\n",
    "\n",
    "# 擷取匯率表格，把美金(也就是匯率表的第一個元素)擷取出來，查詢其歷史匯率\n",
    "currency = rate_table[0].find(name='div', attrs={'class':'visible-phone print_hide'})\n",
    "print(currency.get_text().replace(\" \", \"\"))  # 貨幣種類\n",
    "\n",
    "# 針對美金，找到其「歷史匯率」的首頁 \n",
    "history_link = rate_table[0].find(name='td', attrs={'data-table':'歷史匯率'})\n",
    "history_rate_link = \"https://rate.bot.com.tw\" + history_link.a[\"href\"]  # 該貨幣的歷史資料首頁\n",
    "\n",
    "#\n",
    "# 到貨幣歷史匯率網頁，選則該貨幣的「歷史區間」，送出查詢後，觀察其網址變化情形，再試著抓取其歷史匯率資料\n",
    "#\n",
    "# 用「quote/年-月」去取代網址內容，就可以連到該貨幣的歷史資料\n",
    "quote_history_url = history_rate_link.replace(\"history\", \"quote/2021-08\")\n",
    "resp = requests.get(quote_history_url)\n",
    "resp.encoding = 'utf-8'\n",
    "history = BeautifulSoup(resp.text, \"lxml\")\n",
    "history_table = history.find(name='table', attrs={'title':'歷史本行營業時間牌告匯率'}).find(name='tbody').find_all(name='tr')\n",
    "\n",
    "#\n",
    "# 擷取到歷史匯率資料後，把資料彙整起來並畫出趨勢圖\n",
    "#\n",
    "date_history = list()\n",
    "history_buy = list()\n",
    "history_sell = list()\n",
    "\n",
    "for history_rate in history_table:\n",
    "    # 擷取日期資料\n",
    "    date_string = history_rate.a.get_text()\n",
    "    date = datetime.strptime(date_string, '%Y/%M/%d').strftime('%Y/%M/%d')  # 轉換日期格式\n",
    "    date_history.append(date)  # 日期歷史資料\n",
    "\n",
    "    history_ex_rate = history_rate.find_all(name='td', attrs={'class':'rate-content-cash text-right print_table-cell'})\n",
    "    history_buy.append(float(history_ex_rate[0].get_text()))  # 歷史買入匯率\n",
    "    history_sell.append(float(history_ex_rate[1].get_text()))  # 歷史賣出匯率\n",
    "\n",
    "# 將匯率資料建成dataframe形式\n",
    "HistoryExchangeRate = pd.DataFrame({'date': date_history,\n",
    "                                    'buy_rate':history_buy,\n",
    "                                    'sell_rate':history_sell})\n",
    "\n",
    "HistoryExchangeRate = HistoryExchangeRate.set_index('date')  # 指定日期欄位為datafram的index\n",
    "HistoryExchangeRate = HistoryExchangeRate.sort_index(ascending=True)\n",
    "\n",
    "# 畫出歷史匯率軌跡圖\n",
    "plt.figure(figsize=(10, 8))\n",
    "HistoryExchangeRate[['buy_rate','sell_rate']].plot()  # x=['date'], y=[['buy_rate','sell_rate']] \n",
    "plt.legend(loc=\"upper left\")\n",
    "plt.show()"
   ]
  },
  {
   "cell_type": "markdown",
   "metadata": {},
   "source": [
    "### 作業part 2：爬取每種貨幣對台幣的一個月歷史匯率資料，並畫出趨勢圖"
   ]
  },
  {
   "cell_type": "code",
   "execution_count": null,
   "metadata": {},
   "outputs": [],
   "source": []
  },
  {
   "cell_type": "code",
   "execution_count": null,
   "metadata": {},
   "outputs": [],
   "source": []
  }
 ],
 "metadata": {
  "kernelspec": {
   "display_name": "Python 3 (ipykernel)",
   "language": "python",
   "name": "python3"
  },
  "language_info": {
   "codemirror_mode": {
    "name": "ipython",
    "version": 3
   },
   "file_extension": ".py",
   "mimetype": "text/x-python",
   "name": "python",
   "nbconvert_exporter": "python",
   "pygments_lexer": "ipython3",
   "version": "3.9.5"
  }
 },
 "nbformat": 4,
 "nbformat_minor": 4
}
