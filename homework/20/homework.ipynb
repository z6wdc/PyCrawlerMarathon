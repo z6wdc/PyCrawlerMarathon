{
 "cells": [
  {
   "cell_type": "markdown",
   "metadata": {},
   "source": [
    "# 動態網頁爬蟲 - API Request\n",
    "\n",
    "* 了解 API Request 用於動態網頁爬蟲的原理\n",
    "* 能夠使用 API Request 撰寫動態網頁爬蟲\n",
    "\n",
    "\n",
    "\n",
    "\n"
   ]
  },
  {
   "cell_type": "markdown",
   "metadata": {},
   "source": [
    "## 作業目標\n",
    "\n",
    "* 根據範例的教學，去找出 Dcard 中呼叫的 API 當中，有一個跟「取得所有看板」是哪一個？並且利用 Requests 呼叫。\n"
   ]
  },
  {
   "cell_type": "markdown",
   "metadata": {},
   "source": [
    "* 請附上截圖：_______\n",
    "\n",
    "![]()"
   ]
  },
  {
   "cell_type": "code",
   "execution_count": 2,
   "metadata": {},
   "outputs": [
    {
     "data": {
      "text/plain": [
       "{'id': '7f125e07-4460-4ea5-80b5-33f0e9aafa0c',\n",
       " 'alias': 'midnightlab',\n",
       " 'name': '午夜實驗室',\n",
       " 'description': '午夜實驗室10/6、10/7即將在華山登場！這裏提供大家交流活動資訊與討論，請大家要遵守 Dcard 板規喔！',\n",
       " 'subscriptionCount': 1709,\n",
       " 'subscribed': False,\n",
       " 'read': False,\n",
       " 'createdAt': '2016-05-14T19:15:15.698Z',\n",
       " 'updatedAt': '2021-04-20T08:36:58.712Z',\n",
       " 'canPost': False,\n",
       " 'ignorePost': False,\n",
       " 'invisible': True,\n",
       " 'isSchool': False,\n",
       " 'fullyAnonymous': False,\n",
       " 'canUseNickname': True,\n",
       " 'postThumbnail': {'size': 'small'},\n",
       " 'shouldCategorized': False,\n",
       " 'shouldPostCategorized': False,\n",
       " 'hasPostCategories': False,\n",
       " 'titlePlaceholder': '',\n",
       " 'postTitlePlaceholder': '',\n",
       " 'ipCountryCondition': {'exclude': [], 'include': []},\n",
       " 'subcategories': [],\n",
       " 'topics': ['午夜實驗室'],\n",
       " 'nsfw': False,\n",
       " 'mediaThreshold': {},\n",
       " 'limitCountries': [],\n",
       " 'limitStage': 0,\n",
       " 'availableLayouts': ['classic'],\n",
       " 'postCount': {'last30Days': 1},\n",
       " 'favorite': False,\n",
       " 'enablePrivateMessage': False,\n",
       " 'restrictIdentityOnComment': False}"
      ]
     },
     "execution_count": 2,
     "metadata": {},
     "output_type": "execute_result"
    }
   ],
   "source": [
    "import requests\n",
    "import json\n",
    "\n",
    "r = requests.get('https://www.dcard.tw/service/api/v2/forums?nsfw=true')\n",
    "d = json.loads(r.text)\n",
    "\n",
    "d[0]"
   ]
  }
 ],
 "metadata": {
  "kernelspec": {
   "display_name": "Python 3 (ipykernel)",
   "language": "python",
   "name": "python3"
  },
  "language_info": {
   "codemirror_mode": {
    "name": "ipython",
    "version": 3
   },
   "file_extension": ".py",
   "mimetype": "text/x-python",
   "name": "python",
   "nbconvert_exporter": "python",
   "pygments_lexer": "ipython3",
   "version": "3.9.5"
  }
 },
 "nbformat": 4,
 "nbformat_minor": 4
}
