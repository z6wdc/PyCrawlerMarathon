{
 "cells": [
  {
   "cell_type": "markdown",
   "metadata": {},
   "source": [
    "# Ettoday 網路爬蟲實作練習\n",
    "\n",
    "\n",
    "* 能夠利用 Request + BeatifulSour 撰寫爬蟲，並存放到合適的資料結構\n"
   ]
  },
  {
   "cell_type": "markdown",
   "metadata": {},
   "source": [
    "## 作業目標\n",
    "\n",
    "根據範例 ，完成以下問題：\n",
    "\n",
    "* ① 取出今天所有的發文\n",
    "* ② 如果想要依照類別分類，怎麼儲存會比較好？\n",
    "* ③ 哪一個類別的文章最多\n",
    "\n",
    "\n"
   ]
  },
  {
   "cell_type": "code",
   "execution_count": 27,
   "metadata": {},
   "outputs": [],
   "source": [
    "import requests\n",
    "from bs4 import BeautifulSoup\n",
    "\n",
    "url = 'https://www.ettoday.net/news/news-list.htm'\n",
    "r = requests.get(url)\n",
    "\n",
    "soup = BeautifulSoup(r.text, \"html5lib\")"
   ]
  },
  {
   "cell_type": "markdown",
   "metadata": {},
   "source": [
    "### ① 取出今天所有的發文"
   ]
  },
  {
   "cell_type": "code",
   "execution_count": 28,
   "metadata": {},
   "outputs": [],
   "source": [
    "posts = []\n",
    "for d in soup.find(class_=\"part_list_2\").find_all('h3'):\n",
    "    posts.append(f\"{d.find(class_='date').text} {d.find_all('a')[-1].text}\")"
   ]
  },
  {
   "cell_type": "markdown",
   "metadata": {},
   "source": [
    "### ② 如果想要依照類別分類，怎麼儲存會比較好？"
   ]
  },
  {
   "cell_type": "code",
   "execution_count": 29,
   "metadata": {},
   "outputs": [],
   "source": [
    "from collections import defaultdict\n",
    "\n",
    "categories = defaultdict(list)\n",
    "\n",
    "for d in soup.find(class_=\"part_list_2\").find_all('h3'):\n",
    "    categories[d.find('em').text].append(f\"{d.find(class_='date').text} {d.find_all('a')[-1].text}\")"
   ]
  },
  {
   "cell_type": "code",
   "execution_count": 30,
   "metadata": {},
   "outputs": [],
   "source": [
    "# 範例解法\n",
    "url = 'https://www.ettoday.net/news/news-list.htm'\n",
    "r = requests.get(url)\n",
    "\n",
    "soup = BeautifulSoup(r.text, \"html5lib\")\n",
    "\n",
    "res = {}\n",
    "\n",
    "for d in soup.find(class_=\"part_list_2\").find_all('h3'):\n",
    "    date = d.find(class_=\"date\").text\n",
    "    title = d.find_all('a')[-1].text\n",
    "#     tag = d.find(class_='tag').text\n",
    "    tag = d.select('.tag')[0].text\n",
    "    res.setdefault(tag, [])\n",
    "    res[tag].append({\n",
    "        'title': title,\n",
    "        'date': date\n",
    "    })"
   ]
  },
  {
   "cell_type": "markdown",
   "metadata": {},
   "source": [
    "### ③ 哪一個類別的文章最多"
   ]
  },
  {
   "cell_type": "code",
   "execution_count": 31,
   "metadata": {
    "scrolled": true
   },
   "outputs": [
    {
     "data": {
      "text/plain": [
       "(13, '社會')"
      ]
     },
     "execution_count": 31,
     "metadata": {},
     "output_type": "execute_result"
    }
   ],
   "source": [
    "category_count = defaultdict(int)\n",
    "\n",
    "for k in categories.keys():\n",
    "    category_count[k] = len(categories[k])\n",
    "    \n",
    "max(zip(category_count.values(), category_count.keys()))"
   ]
  },
  {
   "cell_type": "code",
   "execution_count": 32,
   "metadata": {},
   "outputs": [
    {
     "name": "stdout",
     "output_type": "stream",
     "text": [
      "影劇 12\n",
      "房產雲 3\n",
      "生活 13\n",
      "政治 6\n",
      "體育 10\n",
      "財經 7\n",
      "社會 13\n",
      "國際 7\n",
      "地方 4\n",
      "新奇 1\n",
      "時尚 6\n",
      "消費 2\n",
      "大陸 2\n",
      "寵物動物 3\n",
      "健康 1\n",
      "旅遊 4\n",
      "遊戲 2\n",
      "法律 1\n",
      "ET車雲 2\n",
      "網搜 1\n",
      "{'tag': '社會', 'count': 13}\n",
      "{'tag': '生活', 'count': 13}\n",
      "{'tag': '影劇', 'count': 12}\n",
      "{'tag': '體育', 'count': 10}\n",
      "{'tag': '國際', 'count': 7}\n",
      "{'tag': '財經', 'count': 7}\n",
      "{'tag': '時尚', 'count': 6}\n",
      "{'tag': '政治', 'count': 6}\n",
      "{'tag': '旅遊', 'count': 4}\n",
      "{'tag': '地方', 'count': 4}\n",
      "{'tag': '寵物動物', 'count': 3}\n",
      "{'tag': '房產雲', 'count': 3}\n",
      "{'tag': 'ET車雲', 'count': 2}\n",
      "{'tag': '遊戲', 'count': 2}\n",
      "{'tag': '大陸', 'count': 2}\n",
      "{'tag': '消費', 'count': 2}\n",
      "{'tag': '網搜', 'count': 1}\n",
      "{'tag': '法律', 'count': 1}\n",
      "{'tag': '健康', 'count': 1}\n",
      "{'tag': '新奇', 'count': 1}\n"
     ]
    }
   ],
   "source": [
    "# 範例解法\n",
    "data = []\n",
    "for i in res:\n",
    "    print(i, len(res[i]))\n",
    "    d = {}\n",
    "    d['tag'] = i\n",
    "    d['count'] = len(res[i])\n",
    "    data.append(d)\n",
    "\n",
    "for d in sorted(data, key=lambda d: d['count'])[::-1]:\n",
    "    print(d)"
   ]
  }
 ],
 "metadata": {
  "kernelspec": {
   "display_name": "Python 3 (ipykernel)",
   "language": "python",
   "name": "python3"
  },
  "language_info": {
   "codemirror_mode": {
    "name": "ipython",
    "version": 3
   },
   "file_extension": ".py",
   "mimetype": "text/x-python",
   "name": "python",
   "nbconvert_exporter": "python",
   "pygments_lexer": "ipython3",
   "version": "3.9.5"
  }
 },
 "nbformat": 4,
 "nbformat_minor": 4
}
